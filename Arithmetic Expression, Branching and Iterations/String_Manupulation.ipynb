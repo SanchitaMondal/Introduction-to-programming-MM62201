{
  "nbformat": 4,
  "nbformat_minor": 0,
  "metadata": {
    "colab": {
      "provenance": []
    },
    "kernelspec": {
      "name": "python3",
      "display_name": "Python 3"
    },
    "language_info": {
      "name": "python"
    }
  },
  "cells": [
    {
      "cell_type": "markdown",
      "source": [
        "\n",
        "# String Manipulation\n"
      ],
      "metadata": {
        "id": "S3rMkzyGZ5pf"
      }
    },
    {
      "cell_type": "code",
      "source": [
        "####################\n",
        "## EXAMPLE: for loops over strings\n",
        "####################"
      ],
      "metadata": {
        "id": "uds4hbekccdK"
      },
      "execution_count": null,
      "outputs": []
    },
    {
      "cell_type": "code",
      "execution_count": 2,
      "metadata": {
        "colab": {
          "base_uri": "https://localhost:8080/"
        },
        "id": "t4o2aaIUZ131",
        "outputId": "072e1128-0d27-4f45-9a96-b244e42f2077"
      },
      "outputs": [
        {
          "output_type": "stream",
          "name": "stdout",
          "text": [
            "There is an i or u\n",
            "There is an i or u\n"
          ]
        }
      ],
      "source": [
        "\n",
        "s = \"disco loops\"\n",
        "for index in range(len(s)):\n",
        "   if s[index] == 'i' or s[index] == 'u':\n",
        "       print(\"There is an i or u\")\n",
        "\n",
        "for char in s:\n",
        "   if char == 'i' or char == 'u':\n",
        "       print(\"There is an i or u\")\n",
        "\n"
      ]
    },
    {
      "cell_type": "code",
      "source": [
        "####################\n",
        "## EXAMPLE: while loops and strings\n",
        "## CHALLENGE: rewrite while loop with a for loop\n",
        "####################\n",
        "\n"
      ],
      "metadata": {
        "id": "fWC2bUbwaWzx"
      },
      "execution_count": null,
      "outputs": []
    },
    {
      "cell_type": "code",
      "source": [
        "an_letters = \"aefhilmnorsxAEFHILMNORSX\"\n",
        "word = input(\"I will cheer for you! Enter a word: \")\n",
        "times = int(input(\"Enthusiasm level (1-10): \"))\n",
        "\n",
        "i = 0\n",
        "while i < len(word):\n",
        "   char = word[i]\n",
        "   if char in an_letters:\n",
        "       print(\"Give me an \" + char + \"! \" + char)\n",
        "   else:\n",
        "       print(\"Give me a  \" + char + \"! \" + char)\n",
        "   i += 1\n",
        "print(\"What does that spell?\")\n",
        "for i in range(times):\n",
        "   print(word, \"!!!\")"
      ],
      "metadata": {
        "colab": {
          "base_uri": "https://localhost:8080/"
        },
        "id": "jWw-3Is1bsMm",
        "outputId": "e2fb13d9-411f-497c-e943-92f5f6171d4d"
      },
      "execution_count": 7,
      "outputs": [
        {
          "output_type": "stream",
          "name": "stdout",
          "text": [
            "I will cheer for you! Enter a word: a\n",
            "Enthusiasm level (1-10): 1\n",
            "Give me an a! a\n",
            "What does that spell?\n",
            "a !!!\n"
          ]
        }
      ]
    },
    {
      "cell_type": "code",
      "source": [
        "####################\n",
        "## EXAMPLE: perfect cube\n",
        "####################"
      ],
      "metadata": {
        "id": "JnNLO7TBbsUI"
      },
      "execution_count": null,
      "outputs": []
    },
    {
      "cell_type": "code",
      "source": [
        "cube = 27\n",
        "#cube = 8120601\n",
        "for guess in range(cube+1):\n",
        "   if guess**3 == cube:\n",
        "       print(\"Cube root of\", cube, \"is\", guess)\n",
        "       # loops keeps going even after found the cube root"
      ],
      "metadata": {
        "colab": {
          "base_uri": "https://localhost:8080/"
        },
        "id": "y-h-q0gia9FZ",
        "outputId": "56bab444-75f3-49f8-e564-18404d5003bd"
      },
      "execution_count": 5,
      "outputs": [
        {
          "output_type": "stream",
          "name": "stdout",
          "text": [
            "Cube root of 27 is 3\n"
          ]
        }
      ]
    },
    {
      "cell_type": "code",
      "source": [],
      "metadata": {
        "id": "h8sVdTK9bgw3"
      },
      "execution_count": null,
      "outputs": []
    }
  ]
}