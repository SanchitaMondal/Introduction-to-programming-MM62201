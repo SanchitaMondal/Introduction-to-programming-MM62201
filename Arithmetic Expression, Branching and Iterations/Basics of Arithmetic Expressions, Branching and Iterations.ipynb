{
  "nbformat": 4,
  "nbformat_minor": 0,
  "metadata": {
    "colab": {
      "provenance": []
    },
    "kernelspec": {
      "name": "python3",
      "display_name": "Python 3"
    },
    "language_info": {
      "name": "python"
    }
  },
  "cells": [
    {
      "cell_type": "markdown",
      "source": [
        "# Arithmatic expressions, Branching and Iterations"
      ],
      "metadata": {
        "id": "c2hIta7265G7"
      }
    },
    {
      "cell_type": "markdown",
      "source": [
        "## Arithmatic Expression"
      ],
      "metadata": {
        "id": "uVTZbox98yDx"
      }
    },
    {
      "cell_type": "markdown",
      "source": [
        "\n",
        "Operators\tSyntax\tFunctioning\\\n",
        "    + \t  x + y\t   Addition\\\n",
        "    –\t    x – y\t   Subtraction\\\n",
        "    *\t    x * y\t   Multiplication\\\n",
        "    /\t    x / y    Division\\\n",
        "   //\t    x // y\t Quotient\\\n",
        "   %\t    x % y\t   Remainder\\\n",
        "   **\t    x ** y\t Exponentiation\\\n",
        "\n"
      ],
      "metadata": {
        "id": "-rk78CaD_QhQ"
      }
    },
    {
      "cell_type": "code",
      "source": [
        "# Arithmetic Expressions\n",
        "x = 40\n",
        "y = 12\n",
        "\n",
        "add = x + y\n",
        "sub = x - y\n",
        "pro = x * y\n",
        "div = x / y\n",
        "\n",
        "print(add)\n",
        "print(sub)\n",
        "print(pro)\n",
        "print(div)\n"
      ],
      "metadata": {
        "colab": {
          "base_uri": "https://localhost:8080/"
        },
        "id": "mAvAoDLK_Py5",
        "outputId": "906a7ff8-34e8-4080-8671-4d71f4cf2155"
      },
      "execution_count": null,
      "outputs": [
        {
          "output_type": "stream",
          "name": "stdout",
          "text": [
            "52\n",
            "28\n",
            "480\n",
            "3.3333333333333335\n"
          ]
        }
      ]
    },
    {
      "cell_type": "code",
      "source": [
        "# Integral Expressions\n",
        "a = 13\n",
        "b = 12.0\n",
        "\n",
        "c = a + int(b)\n",
        "print(c)\n"
      ],
      "metadata": {
        "colab": {
          "base_uri": "https://localhost:8080/"
        },
        "id": "sJeLKNAd_ycg",
        "outputId": "4c1805d4-2be0-4749-c794-6032623229fd"
      },
      "execution_count": null,
      "outputs": [
        {
          "output_type": "stream",
          "name": "stdout",
          "text": [
            "25\n"
          ]
        }
      ]
    },
    {
      "cell_type": "code",
      "source": [
        "# Relational Expressions\n",
        "a = 21\n",
        "b = 13\n",
        "c = 40\n",
        "d = 37\n",
        "\n",
        "p = (a + b) >= (c - d)\n",
        "print(p)\n"
      ],
      "metadata": {
        "colab": {
          "base_uri": "https://localhost:8080/"
        },
        "id": "MWQ06UtI_0yp",
        "outputId": "0cf4ee7e-766a-4a6a-c8c5-109117048c41"
      },
      "execution_count": null,
      "outputs": [
        {
          "output_type": "stream",
          "name": "stdout",
          "text": [
            "True\n"
          ]
        }
      ]
    },
    {
      "cell_type": "code",
      "source": [],
      "metadata": {
        "id": "Ct7Uql4j_02B"
      },
      "execution_count": null,
      "outputs": []
    },
    {
      "cell_type": "markdown",
      "source": [
        "## Conditional / Branching"
      ],
      "metadata": {
        "id": "xWTUq6Sh_6Jh"
      }
    },
    {
      "cell_type": "code",
      "source": [
        "####################\n",
        "## EXAMPLE: conditionals/branching\n",
        "####################"
      ],
      "metadata": {
        "id": "rywcMdpc67Rx"
      },
      "execution_count": null,
      "outputs": []
    },
    {
      "cell_type": "code",
      "source": [
        "x = float(input(\"Enter a number for x: \"))\n",
        "y = float(input(\"Enter a number for y: \"))\n",
        "if x == y:\n",
        "   print(\"x and y are equal\")\n",
        "elif x < y:\n",
        "   print(\"x is smaller\")\n",
        "elif x > y:\n",
        "   print(\"y is smaller\")\n",
        "print(\"thanks!\")"
      ],
      "metadata": {
        "colab": {
          "base_uri": "https://localhost:8080/"
        },
        "id": "xk7G3061ABdQ",
        "outputId": "b8886db5-bf6a-4f02-e5a6-004e1867d87f"
      },
      "execution_count": null,
      "outputs": [
        {
          "output_type": "stream",
          "name": "stdout",
          "text": [
            "Enter a number for x: 10\n",
            "Enter a number for y: 20\n",
            "x is smaller\n",
            "thanks!\n"
          ]
        }
      ]
    },
    {
      "cell_type": "code",
      "source": [
        "####################\n",
        "## EXAMPLE: remainder\n",
        "####################\n"
      ],
      "metadata": {
        "id": "VN2zWle68LCp"
      },
      "execution_count": null,
      "outputs": []
    },
    {
      "cell_type": "code",
      "source": [
        "num = int(input(\"Enter a number: \"))\n",
        "if num % 2 == 0:\n",
        "   print(\"number is even\")\n",
        "else:\n",
        "   print(\"number is odd\")"
      ],
      "metadata": {
        "colab": {
          "base_uri": "https://localhost:8080/"
        },
        "id": "Pl_ZgIBv8Voi",
        "outputId": "0067f768-bd22-46ee-f0e2-7e09ba7f622d"
      },
      "execution_count": null,
      "outputs": [
        {
          "output_type": "stream",
          "name": "stdout",
          "text": [
            "Enter a number: 25\n",
            "number is odd\n"
          ]
        }
      ]
    },
    {
      "cell_type": "markdown",
      "source": [
        "## Iterations"
      ],
      "metadata": {
        "id": "guCdsbwDA--B"
      }
    },
    {
      "cell_type": "code",
      "source": [
        "####################\n",
        "## EXAMPLE: for loops\n",
        "####################\n"
      ],
      "metadata": {
        "id": "4pKBi96A8OER"
      },
      "execution_count": null,
      "outputs": []
    },
    {
      "cell_type": "code",
      "source": [
        "for n in range(5):\n",
        "   print(n)\n"
      ],
      "metadata": {
        "colab": {
          "base_uri": "https://localhost:8080/"
        },
        "id": "1gjD2FJrBDkJ",
        "outputId": "771e8d5e-b7d4-456e-8de8-5704f02328d7"
      },
      "execution_count": null,
      "outputs": [
        {
          "output_type": "stream",
          "name": "stdout",
          "text": [
            "0\n",
            "1\n",
            "2\n",
            "3\n",
            "4\n"
          ]
        }
      ]
    },
    {
      "cell_type": "code",
      "source": [
        "mysum = 0\n",
        "for i in range(10):\n",
        "   mysum += i\n",
        "print(mysum)\n"
      ],
      "metadata": {
        "colab": {
          "base_uri": "https://localhost:8080/"
        },
        "id": "MI_K1MMoBRiB",
        "outputId": "af43e4fd-f07a-46dd-ccad-32d5a2b572eb"
      },
      "execution_count": null,
      "outputs": [
        {
          "output_type": "stream",
          "name": "stdout",
          "text": [
            "45\n"
          ]
        }
      ]
    },
    {
      "cell_type": "code",
      "source": [
        "mysum = 0\n",
        "for i in range(7, 10):\n",
        "   mysum += i\n",
        "print(mysum)\n"
      ],
      "metadata": {
        "colab": {
          "base_uri": "https://localhost:8080/"
        },
        "id": "_bJ2F_3vBRlw",
        "outputId": "cd2dca76-65aa-457f-f733-09b6684e8152"
      },
      "execution_count": null,
      "outputs": [
        {
          "output_type": "stream",
          "name": "stdout",
          "text": [
            "24\n"
          ]
        }
      ]
    },
    {
      "cell_type": "code",
      "source": [
        "mysum = 0\n",
        "for i in range(5, 11, 2):\n",
        "   mysum += i\n",
        "   if mysum == 5:\n",
        "       break\n",
        "       mysum += 1\n",
        "print(mysum)"
      ],
      "metadata": {
        "colab": {
          "base_uri": "https://localhost:8080/"
        },
        "id": "nNya5LsnBRpG",
        "outputId": "612dc138-8664-4016-84bc-62ba97fde47c"
      },
      "execution_count": null,
      "outputs": [
        {
          "output_type": "stream",
          "name": "stdout",
          "text": [
            "5\n"
          ]
        }
      ]
    },
    {
      "cell_type": "code",
      "source": [],
      "metadata": {
        "id": "6g3_ta1yBRsv"
      },
      "execution_count": null,
      "outputs": []
    },
    {
      "cell_type": "code",
      "source": [
        "####################\n",
        "## EXAMPLE: while loops\n",
        "####################\n"
      ],
      "metadata": {
        "id": "Mg8dhjP58OH6"
      },
      "execution_count": null,
      "outputs": []
    },
    {
      "cell_type": "code",
      "source": [
        "n = 0\n",
        "while n < 5:\n",
        "   print(n)\n",
        "   n = n+1"
      ],
      "metadata": {
        "colab": {
          "base_uri": "https://localhost:8080/"
        },
        "id": "GEXecKpx8OLM",
        "outputId": "8db0924f-df43-40ae-b825-255dc6b9548b"
      },
      "execution_count": null,
      "outputs": [
        {
          "output_type": "stream",
          "name": "stdout",
          "text": [
            "0\n",
            "1\n",
            "2\n",
            "3\n",
            "4\n"
          ]
        }
      ]
    },
    {
      "cell_type": "code",
      "source": [],
      "metadata": {
        "id": "ho8Q-9rLBk-Y"
      },
      "execution_count": null,
      "outputs": []
    },
    {
      "cell_type": "code",
      "source": [
        "####################\n",
        "## EXAMPLE: perfect squares\n",
        "####################\n"
      ],
      "metadata": {
        "id": "oo5raGKe8LGZ"
      },
      "execution_count": null,
      "outputs": []
    },
    {
      "cell_type": "code",
      "source": [
        "ans = 0\n",
        "neg_flag = False\n",
        "x = int(input(\"Enter an integer: \"))\n",
        "if x < 0:\n",
        "   neg_flag = True\n",
        "while ans**2 < x:\n",
        "   ans = ans + 1\n",
        "if ans**2 == x:\n",
        "   print(\"Square root of\", x, \"is\", ans)\n",
        "else:\n",
        "   print(x, \"is not a perfect square\")\n",
        "   if neg_flag:\n",
        "       print(\"Just checking... did you mean\", -x, \"?\")"
      ],
      "metadata": {
        "colab": {
          "base_uri": "https://localhost:8080/"
        },
        "id": "A7HjyMRCB2Fx",
        "outputId": "6a8a510d-e09c-432e-fc9b-8351dba32ec1"
      },
      "execution_count": null,
      "outputs": [
        {
          "output_type": "stream",
          "name": "stdout",
          "text": [
            "Enter an integer: 2\n",
            "2 is not a perfect square\n"
          ]
        }
      ]
    },
    {
      "cell_type": "code",
      "source": [],
      "metadata": {
        "id": "DRQ3ITTNB6z5"
      },
      "execution_count": null,
      "outputs": []
    }
  ]
}