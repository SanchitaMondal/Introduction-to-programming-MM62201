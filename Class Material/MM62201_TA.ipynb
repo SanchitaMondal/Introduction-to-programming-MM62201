{
  "nbformat": 4,
  "nbformat_minor": 0,
  "metadata": {
    "colab": {
      "provenance": []
    },
    "kernelspec": {
      "name": "python3",
      "display_name": "Python 3"
    },
    "language_info": {
      "name": "python"
    }
  },
  "cells": [
    {
      "cell_type": "markdown",
      "source": [
        "## Calculator"
      ],
      "metadata": {
        "id": "JgyfhhNoIK29"
      }
    },
    {
      "cell_type": "code",
      "execution_count": null,
      "metadata": {
        "id": "UCd67WO5Br30"
      },
      "outputs": [],
      "source": [
        "def calculation(a, b):\n",
        "  sum = a + b\n",
        "  sub= a-b\n",
        "  mul=a*b\n",
        "  div= a/b\n",
        "\n",
        "  print(\"Summetion: \", sum)\n",
        "  print(\"Subtraction: \", sub)\n",
        "  print(\"Multiplication: \", mul)\n",
        "  print(\"Division: \", div)\n"
      ]
    },
    {
      "cell_type": "code",
      "source": [
        "calculation(10, 5)"
      ],
      "metadata": {
        "colab": {
          "base_uri": "https://localhost:8080/"
        },
        "id": "jNitEL-LEVOC",
        "outputId": "7c58f79c-8e76-4ae2-eb35-3deb7663204a"
      },
      "execution_count": null,
      "outputs": [
        {
          "output_type": "stream",
          "name": "stdout",
          "text": [
            "Summetion:  15\n",
            "Subtraction:  5\n",
            "Multiplication:  50\n",
            "Division:  2.0\n"
          ]
        }
      ]
    },
    {
      "cell_type": "code",
      "source": [],
      "metadata": {
        "id": "c4bUIKPQPc0-"
      },
      "execution_count": null,
      "outputs": []
    },
    {
      "cell_type": "markdown",
      "source": [
        "## Factorial"
      ],
      "metadata": {
        "id": "VSDH4g7iPdxc"
      }
    },
    {
      "cell_type": "code",
      "source": [
        "def fact(num):\n",
        "\n",
        "  if num <= 0:\n",
        "    return 1\n",
        "  else:\n",
        "    return num*fact(num-1)"
      ],
      "metadata": {
        "id": "2QsZPRutPfcU"
      },
      "execution_count": null,
      "outputs": []
    },
    {
      "cell_type": "code",
      "source": [
        "fact(3)"
      ],
      "metadata": {
        "colab": {
          "base_uri": "https://localhost:8080/"
        },
        "id": "nrHahjEMP4zg",
        "outputId": "f2ca08db-2ba5-46c8-b768-ffa5234bc6d3"
      },
      "execution_count": null,
      "outputs": [
        {
          "output_type": "execute_result",
          "data": {
            "text/plain": [
              "6"
            ]
          },
          "metadata": {},
          "execution_count": 10
        }
      ]
    },
    {
      "cell_type": "markdown",
      "source": [
        "## 06.10.2023 class"
      ],
      "metadata": {
        "id": "vy9QZxHhqrZB"
      }
    },
    {
      "cell_type": "code",
      "source": [
        "\n",
        "#####################################\n",
        "# EXAMPLE:  Towers of Hanoi\n",
        "#####################################\n",
        "\n",
        "def printMove(fr, to):\n",
        "    print('move from ' + str(fr) + ' to ' + str(to))\n",
        "\n",
        "def Towers(n, fr, to, spare):\n",
        "    if n == 1:\n",
        "        printMove(fr, to)\n",
        "    else:\n",
        "        Towers(n-1, fr, spare, to)\n",
        "        Towers(1, fr, to, spare)\n",
        "        Towers(n-1, spare, to, fr)\n",
        "\n",
        "print(Towers(4, 'P1', 'P2', 'P3'))"
      ],
      "metadata": {
        "id": "ERn3QY6vP6is",
        "colab": {
          "base_uri": "https://localhost:8080/"
        },
        "outputId": "028e19ad-21f0-44e1-ae34-6519c8d81f46"
      },
      "execution_count": null,
      "outputs": [
        {
          "output_type": "stream",
          "name": "stdout",
          "text": [
            "move from P1 to P3\n",
            "move from P1 to P2\n",
            "move from P3 to P2\n",
            "move from P1 to P3\n",
            "move from P2 to P1\n",
            "move from P2 to P3\n",
            "move from P1 to P3\n",
            "move from P1 to P2\n",
            "move from P3 to P2\n",
            "move from P3 to P1\n",
            "move from P2 to P1\n",
            "move from P3 to P2\n",
            "move from P1 to P3\n",
            "move from P1 to P2\n",
            "move from P3 to P2\n",
            "None\n"
          ]
        }
      ]
    },
    {
      "cell_type": "code",
      "source": [
        "\n",
        "Dict = {1: 'IIT', 2: 'For', 3: 'IITians'}\n",
        "print(Dict)\n",
        "\n"
      ],
      "metadata": {
        "colab": {
          "base_uri": "https://localhost:8080/"
        },
        "id": "b8OjWw_nqo3g",
        "outputId": "067b527d-109f-4932-9796-62fad1e30896"
      },
      "execution_count": null,
      "outputs": [
        {
          "output_type": "stream",
          "name": "stdout",
          "text": [
            "{1: 'IIT', 2: 'For', 3: 'IITians'}\n"
          ]
        }
      ]
    },
    {
      "cell_type": "code",
      "source": [
        "# Creating a Dictionary\n",
        "# with Integer Keys\n",
        "Dict = {1: 'IIT', 2: 'For', 3: 'IITians'}\n",
        "print(\"\\nDictionary with the use of Integer Keys: \")\n",
        "print(Dict)\n"
      ],
      "metadata": {
        "colab": {
          "base_uri": "https://localhost:8080/"
        },
        "id": "Z9e10-E_yN-X",
        "outputId": "f5278a39-1b37-4e8a-cb9c-b8dfdcfc9c00"
      },
      "execution_count": null,
      "outputs": [
        {
          "output_type": "stream",
          "name": "stdout",
          "text": [
            "\n",
            "Dictionary with the use of Integer Keys: \n",
            "{1: 'IIT', 2: 'For', 3: 'IITians'}\n"
          ]
        }
      ]
    },
    {
      "cell_type": "code",
      "source": [
        "# Creating a Dictionary\n",
        "# with Mixed keys\n",
        "Dict = {'Name': 'Geeks', 1: [1, 2, 3, 4]}\n",
        "print(\"\\nDictionary with the use of Mixed Keys: \")\n",
        "print(Dict)\n"
      ],
      "metadata": {
        "colab": {
          "base_uri": "https://localhost:8080/"
        },
        "id": "Xbo30-xjySkk",
        "outputId": "6cd92990-83dc-43b8-dd8e-fa4f3627bd8c"
      },
      "execution_count": null,
      "outputs": [
        {
          "output_type": "stream",
          "name": "stdout",
          "text": [
            "\n",
            "Dictionary with the use of Mixed Keys: \n",
            "{'Name': 'Geeks', 1: [1, 2, 3, 4]}\n"
          ]
        }
      ]
    },
    {
      "cell_type": "code",
      "source": [
        "\n",
        "# Creating an empty Dictionary\n",
        "Dict = {}\n",
        "print(\"Empty Dictionary: \")\n",
        "print(Dict)\n",
        "\n"
      ],
      "metadata": {
        "colab": {
          "base_uri": "https://localhost:8080/"
        },
        "id": "GuhOeoFayVi-",
        "outputId": "7e3e9abe-563e-495d-bca0-1832e89a0d12"
      },
      "execution_count": null,
      "outputs": [
        {
          "output_type": "stream",
          "name": "stdout",
          "text": [
            "Empty Dictionary: \n",
            "{}\n"
          ]
        }
      ]
    },
    {
      "cell_type": "code",
      "source": [
        "# Creating a Dictionary\n",
        "# with dict() method\n",
        "Dict = dict({1: 'IIT', 2: 'For', 3: 'IITians'})\n",
        "print(\"\\nDictionary with the use of dict(): \")\n",
        "print(Dict)\n",
        "\n"
      ],
      "metadata": {
        "colab": {
          "base_uri": "https://localhost:8080/"
        },
        "id": "2bOGHJJOyYCN",
        "outputId": "efa89b19-c0de-4128-f527-d99fbb3d0095"
      },
      "execution_count": null,
      "outputs": [
        {
          "output_type": "stream",
          "name": "stdout",
          "text": [
            "\n",
            "Dictionary with the use of dict(): \n",
            "{1: 'IIT', 2: 'For', 3: 'IITians'}\n"
          ]
        }
      ]
    },
    {
      "cell_type": "code",
      "source": [
        "# Creating a Dictionary\n",
        "# with each item as a Pair\n",
        "Dict = dict([(1, 'Geeks'), (2, 'For')])\n",
        "print(\"\\nDictionary with each item as a pair: \")\n",
        "print(Dict)\n",
        "\n"
      ],
      "metadata": {
        "colab": {
          "base_uri": "https://localhost:8080/"
        },
        "id": "oFrieKvEyaxt",
        "outputId": "1aedaace-09b4-4b1d-a6cc-51435889fa26"
      },
      "execution_count": null,
      "outputs": [
        {
          "output_type": "stream",
          "name": "stdout",
          "text": [
            "\n",
            "Dictionary with each item as a pair: \n",
            "{1: 'Geeks', 2: 'For'}\n"
          ]
        }
      ]
    },
    {
      "cell_type": "code",
      "source": [
        "# Creating a Nested Dictionary\n",
        "# as shown in the below image\n",
        "Dict = {1: 'Geeks', 2: 'For',\n",
        "\t\t3: {'A': 'Welcome', 'B': 'To', 'C': 'Geeks'}}\n",
        "\n",
        "print(Dict)\n",
        "\n"
      ],
      "metadata": {
        "colab": {
          "base_uri": "https://localhost:8080/"
        },
        "id": "2ENLkLB_yd6e",
        "outputId": "e5db28f6-133d-43d8-a4a2-2d6db73d8d28"
      },
      "execution_count": null,
      "outputs": [
        {
          "output_type": "stream",
          "name": "stdout",
          "text": [
            "{1: 'Geeks', 2: 'For', 3: {'A': 'Welcome', 'B': 'To', 'C': 'Geeks'}}\n"
          ]
        }
      ]
    },
    {
      "cell_type": "code",
      "source": [
        "Dict[1] = \"words\""
      ],
      "metadata": {
        "id": "hrZFsB4zkcAM"
      },
      "execution_count": null,
      "outputs": []
    },
    {
      "cell_type": "code",
      "source": [
        "Dict"
      ],
      "metadata": {
        "colab": {
          "base_uri": "https://localhost:8080/"
        },
        "id": "HW5PZ6JAkp70",
        "outputId": "0ffaa442-016d-41ea-a86b-084bb4379acd"
      },
      "execution_count": null,
      "outputs": [
        {
          "output_type": "execute_result",
          "data": {
            "text/plain": [
              "{1: 'words', 2: 'For', 3: {'A': 'Welcome', 'B': 'To', 'C': 'Geeks'}}"
            ]
          },
          "metadata": {},
          "execution_count": 15
        }
      ]
    },
    {
      "cell_type": "code",
      "source": [
        "# Creating an empty Dictionary\n",
        "Dict = {}\n",
        "print(\"Empty Dictionary: \")\n",
        "print(Dict)\n",
        "\n"
      ],
      "metadata": {
        "colab": {
          "base_uri": "https://localhost:8080/"
        },
        "id": "tS_d3acNyg0w",
        "outputId": "3e218ed1-6a02-4d74-89b6-2fb19123ca73"
      },
      "execution_count": null,
      "outputs": [
        {
          "output_type": "stream",
          "name": "stdout",
          "text": [
            "Empty Dictionary: \n",
            "{}\n"
          ]
        }
      ]
    },
    {
      "cell_type": "code",
      "source": [
        "# Adding elements one at a time\n",
        "Dict[0] = 'Geeks'\n",
        "Dict[2] = 'For'\n",
        "Dict[3] = 1\n",
        "print(\"\\nDictionary after adding 3 elements: \")\n",
        "print(Dict)\n",
        "\n"
      ],
      "metadata": {
        "colab": {
          "base_uri": "https://localhost:8080/"
        },
        "id": "F3pWHxSAyugf",
        "outputId": "7fb81081-dac8-4d72-a330-78791711cb81"
      },
      "execution_count": null,
      "outputs": [
        {
          "output_type": "stream",
          "name": "stdout",
          "text": [
            "\n",
            "Dictionary after adding 3 elements: \n",
            "{0: 'Geeks', 2: 'For', 3: 1}\n"
          ]
        }
      ]
    },
    {
      "cell_type": "code",
      "source": [
        "# Adding set of values\n",
        "# to a single Key\n",
        "Dict['Value_set'] = 2, 3, 4\n",
        "print(\"\\nDictionary after adding 3 elements: \")\n",
        "print(Dict)\n",
        "\n"
      ],
      "metadata": {
        "colab": {
          "base_uri": "https://localhost:8080/"
        },
        "id": "fFSDBe6nyxt8",
        "outputId": "3f8a406a-0b0f-4b4a-a290-75218f4d465d"
      },
      "execution_count": null,
      "outputs": [
        {
          "output_type": "stream",
          "name": "stdout",
          "text": [
            "\n",
            "Dictionary after adding 3 elements: \n",
            "{0: 'Geeks', 2: 'For', 3: 1, 'Value_set': (2, 3, 4)}\n"
          ]
        }
      ]
    },
    {
      "cell_type": "code",
      "source": [
        "# Updating existing Key's Value\n",
        "Dict[2] = 'Welcome'\n",
        "print(\"\\nUpdated key value: \")\n",
        "print(Dict)\n",
        "\n"
      ],
      "metadata": {
        "colab": {
          "base_uri": "https://localhost:8080/"
        },
        "id": "LX1a4_mpy0F1",
        "outputId": "90587a51-df01-4ec6-fe4c-dd44003d1a45"
      },
      "execution_count": null,
      "outputs": [
        {
          "output_type": "stream",
          "name": "stdout",
          "text": [
            "\n",
            "Updated key value: \n",
            "{0: 'Geeks', 2: 'Welcome', 3: 1, 'Value_set': (2, 3, 4)}\n"
          ]
        }
      ]
    },
    {
      "cell_type": "code",
      "source": [
        "# Adding Nested Key value to Dictionary\n",
        "Dict[5] = {'Nested': {'1': 'Life', '2': 'Geeks'}}\n",
        "print(\"\\nAdding a Nested Key: \")\n",
        "print(Dict)\n",
        "\n"
      ],
      "metadata": {
        "colab": {
          "base_uri": "https://localhost:8080/"
        },
        "id": "UR58iRhUy2mV",
        "outputId": "6af059c5-b11f-4e23-cde0-4c1e107b1eb2"
      },
      "execution_count": null,
      "outputs": [
        {
          "output_type": "stream",
          "name": "stdout",
          "text": [
            "\n",
            "Adding a Nested Key: \n",
            "{0: 'Geeks', 2: 'Welcome', 3: 1, 'Value_set': (2, 3, 4), 5: {'Nested': {'1': 'Life', '2': 'Geeks'}}}\n"
          ]
        }
      ]
    },
    {
      "cell_type": "code",
      "source": [
        "# Creating a Dictionary\n",
        "Dict = {1: 'Geeks', 'name': 'For', 3: 'Geeks'}\n",
        "\n",
        "# accessing a element using get()\n",
        "# method\n",
        "print(\"Accessing a element using get:\")\n",
        "print(Dict.get(3))\n",
        "\n"
      ],
      "metadata": {
        "colab": {
          "base_uri": "https://localhost:8080/"
        },
        "id": "agdxkwvty42s",
        "outputId": "18cc9ece-fa42-402c-fa33-3cf9d64f2384"
      },
      "execution_count": null,
      "outputs": [
        {
          "output_type": "stream",
          "name": "stdout",
          "text": [
            "Accessing a element using get:\n",
            "Geeks\n"
          ]
        }
      ]
    },
    {
      "cell_type": "code",
      "source": [
        "# Creating a Dictionary\n",
        "Dict = {'Dict1': {1: 'Geeks'},\n",
        "\t\t'Dict2': {'Name': 'For'}}\n",
        "\n",
        "# Accessing element using key\n",
        "print(Dict['Dict1'])\n",
        "print(Dict['Dict1'][1])\n",
        "print(Dict['Dict2']['Name'])\n",
        "\n"
      ],
      "metadata": {
        "colab": {
          "base_uri": "https://localhost:8080/"
        },
        "id": "5KuncDa8zOPF",
        "outputId": "11301301-3f8f-4262-a270-e548c9818143"
      },
      "execution_count": null,
      "outputs": [
        {
          "output_type": "stream",
          "name": "stdout",
          "text": [
            "{1: 'Geeks'}\n",
            "Geeks\n",
            "For\n"
          ]
        }
      ]
    },
    {
      "cell_type": "code",
      "source": [
        "# Python program to demonstrate\n",
        "# Deleting Elements using del Keyword\n",
        "\n",
        "# Creating a Dictionary\n",
        "Dict = {1: 'Geeks', 'name': 'For', 3: 'Geeks'}\n",
        "\n",
        "print(\"Dictionary =\")\n",
        "print(Dict)\n",
        "#Deleting some of the Dictionar data\n",
        "del(Dict[1])\n",
        "print(\"Data after deletion Dictionary=\")\n",
        "print(Dict)\n",
        "\n"
      ],
      "metadata": {
        "colab": {
          "base_uri": "https://localhost:8080/"
        },
        "id": "2cvBnYOhzYDm",
        "outputId": "145e539f-e131-4b8b-fa58-520cf90ed78c"
      },
      "execution_count": null,
      "outputs": [
        {
          "output_type": "stream",
          "name": "stdout",
          "text": [
            "Dictionary =\n",
            "{1: 'Geeks', 'name': 'For', 3: 'Geeks'}\n",
            "Data after deletion Dictionary=\n",
            "{'name': 'For', 3: 'Geeks'}\n"
          ]
        }
      ]
    },
    {
      "cell_type": "code",
      "source": [
        "#demo for all dictionary methods\n",
        "dict1 = {1: \"Python\", 2: \"Java\", 3: \"Ruby\", 4: \"Scala\"}"
      ],
      "metadata": {
        "id": "RmQcEJvzldx3"
      },
      "execution_count": null,
      "outputs": []
    },
    {
      "cell_type": "code",
      "source": [
        "dict1.copy()"
      ],
      "metadata": {
        "colab": {
          "base_uri": "https://localhost:8080/"
        },
        "id": "MpV7CNQali3-",
        "outputId": "342d0f86-3f9c-4add-b8be-b907a8de5166"
      },
      "execution_count": null,
      "outputs": [
        {
          "output_type": "execute_result",
          "data": {
            "text/plain": [
              "{1: 'Python', 2: 'Java', 3: 'Ruby', 4: 'Scala'}"
            ]
          },
          "metadata": {},
          "execution_count": 17
        }
      ]
    },
    {
      "cell_type": "code",
      "source": [
        "dict1.clear()"
      ],
      "metadata": {
        "id": "xrbDkm4nli7c"
      },
      "execution_count": null,
      "outputs": []
    },
    {
      "cell_type": "code",
      "source": [
        "dict1[1] = 'R'\n",
        "dict1"
      ],
      "metadata": {
        "colab": {
          "base_uri": "https://localhost:8080/"
        },
        "id": "Ib8kI_yFlwFy",
        "outputId": "3a3fbe7d-aedb-47e8-deae-5586b3a0256e"
      },
      "execution_count": null,
      "outputs": [
        {
          "output_type": "execute_result",
          "data": {
            "text/plain": [
              "{1: 'R', 2: 'Java', 3: 'Ruby', 4: 'Scala'}"
            ]
          },
          "metadata": {},
          "execution_count": 22
        }
      ]
    },
    {
      "cell_type": "code",
      "source": [
        "dict1.keys()"
      ],
      "metadata": {
        "colab": {
          "base_uri": "https://localhost:8080/"
        },
        "id": "GOT6juHLmMhX",
        "outputId": "b130c00e-66e7-4258-d3b3-6a49234c9e81"
      },
      "execution_count": null,
      "outputs": [
        {
          "output_type": "execute_result",
          "data": {
            "text/plain": [
              "dict_keys([1, 2, 3, 4])"
            ]
          },
          "metadata": {},
          "execution_count": 25
        }
      ]
    },
    {
      "cell_type": "code",
      "source": [
        "#demo for all dictionary methods\n",
        "dict1 = {1: \"Python\", 2: \"Java\", 3: \"Ruby\", 4: \"Scala\"}\n",
        "\n",
        "# copy() method\n",
        "dict2 = dict1.copy()\n",
        "print(dict2)\n",
        "\n",
        "# clear() method\n",
        "dict1.clear()\n",
        "print(dict1)\n",
        "\n",
        "# get() method\n",
        "print(dict2.get(1))\n",
        "\n",
        "# items() method\n",
        "print(dict2.items())\n",
        "\n",
        "# keys() method\n",
        "print(dict2.keys())\n",
        "\n",
        "# pop() method\n",
        "dict2.pop(4)\n",
        "print(dict2)\n",
        "\n",
        "# popitem() method\n",
        "dict2.popitem()\n",
        "print(dict2)\n",
        "\n",
        "# update() method\n",
        "dict2.update({3: \"Scala\"})\n",
        "print(dict2)\n",
        "\n",
        "# values() method\n",
        "print(dict2.values())\n"
      ],
      "metadata": {
        "colab": {
          "base_uri": "https://localhost:8080/"
        },
        "id": "xd2Bi2kLzfrl",
        "outputId": "18e5470f-9ea0-47f4-845f-48806e5743ac"
      },
      "execution_count": null,
      "outputs": [
        {
          "output_type": "stream",
          "name": "stdout",
          "text": [
            "{1: 'Python', 2: 'Java', 3: 'Ruby', 4: 'Scala'}\n",
            "{}\n",
            "Python\n",
            "dict_items([(1, 'Python'), (2, 'Java'), (3, 'Ruby'), (4, 'Scala')])\n",
            "dict_keys([1, 2, 3, 4])\n",
            "{1: 'Python', 2: 'Java', 3: 'Ruby'}\n",
            "{1: 'Python', 2: 'Java'}\n",
            "{1: 'Python', 2: 'Java', 3: 'Scala'}\n",
            "dict_values(['Python', 'Java', 'Scala'])\n"
          ]
        }
      ]
    },
    {
      "cell_type": "code",
      "source": [],
      "metadata": {
        "id": "VDqd6hhUlfWi"
      },
      "execution_count": null,
      "outputs": []
    },
    {
      "cell_type": "code",
      "source": [],
      "metadata": {
        "id": "uCzaM0hllfZ8"
      },
      "execution_count": null,
      "outputs": []
    },
    {
      "cell_type": "code",
      "source": [
        "#### Patient dictionary\n",
        "\n",
        "patient_visits = {\n",
        "    \"P001\": {\n",
        "        \"Patient Name\": \"Suresh\",\n",
        "        \"Doctor\": \"Dr. Pal\",\n",
        "        \"Date\": \"2023-10-06\",\n",
        "        \"Reason\": \"Checkup\",\n",
        "        \"Prescription\": [\"Medication A\", \"Medication B\"],\n",
        "        \"Diagnosis\": \"Healthy\",\n",
        "    },\n",
        "    \"P002\": {\n",
        "        \"Patient Name\": \"Ram\",\n",
        "        \"Doctor\": \"Dr. Roy\",\n",
        "        \"Date\": \"2023-09-15\",\n",
        "        \"Reason\": \"Fever\",\n",
        "        \"Prescription\": [\"Antibiotic X\"],\n",
        "        \"Diagnosis\": \"Respiratory Infection\",\n",
        "    },\n",
        "    \"P003\": {\n",
        "        \"Patient Name\": \"Hari\",\n",
        "        \"Doctor\": \"Dr. Mallick\",\n",
        "        \"Date\": \"2023-08-25\",\n",
        "        \"Reason\": \"Back Pain\",\n",
        "        \"Prescription\": [\"Pain Reliever Y\", \"Physical Therapy\"],\n",
        "        \"Diagnosis\": \"Muscle Strain\",\n",
        "    },\n",
        "    \"P004\": {\n",
        "        \"Patient Name\": \"Robin\",\n",
        "        \"Doctor\": \"Dr. Mallick\",\n",
        "        \"Date\": \"2023-08-29\",\n",
        "        \"Reason\": \"Back Pain\",\n",
        "        \"Prescription\": [\"Pain Reliever Y\", \"Physical Therapy\"],\n",
        "        \"Diagnosis\": \"Muscle Strain\",\n",
        "    },\n",
        "    # Add more patients and their visits as needed\n",
        "}\n",
        "\n"
      ],
      "metadata": {
        "id": "H1tOaiTTzmKe"
      },
      "execution_count": null,
      "outputs": []
    },
    {
      "cell_type": "code",
      "source": [
        "# Accessing data for a specific patient visit using the patient ID\n",
        "patient_id = \"P001\"\n",
        "patient_visit = patient_visits[patient_id]\n",
        "print(\"Patient ID:\", patient_id)\n",
        "print(\"Patient Name:\", patient_visit[\"Patient Name\"])\n",
        "print(\"Doctor:\", patient_visit[\"Doctor\"])\n",
        "print(\"Date:\", patient_visit[\"Date\"])\n",
        "print(\"Reason:\", patient_visit[\"Reason\"])\n",
        "print(\"Prescription:\", \", \".join(patient_visit[\"Prescription\"]))\n",
        "print(\"Diagnosis:\", patient_visit[\"Diagnosis\"])\n"
      ],
      "metadata": {
        "colab": {
          "base_uri": "https://localhost:8080/"
        },
        "id": "bGM3h4xI0cpN",
        "outputId": "8cba4ce9-03df-4f0b-9174-a6fe6639eebc"
      },
      "execution_count": null,
      "outputs": [
        {
          "output_type": "stream",
          "name": "stdout",
          "text": [
            "Patient ID: P001\n",
            "Patient Name: Suresh\n",
            "Doctor: Dr. Pal\n",
            "Date: 2023-10-06\n",
            "Reason: Checkup\n",
            "Prescription: Medication A, Medication B\n",
            "Diagnosis: Healthy\n"
          ]
        }
      ]
    },
    {
      "cell_type": "code",
      "source": [
        "plist = patient_visits.values()\n",
        "plist"
      ],
      "metadata": {
        "colab": {
          "base_uri": "https://localhost:8080/"
        },
        "id": "JzUeKUBU0faH",
        "outputId": "251e3aab-d261-47fd-f66d-722767739b7d"
      },
      "execution_count": null,
      "outputs": [
        {
          "output_type": "execute_result",
          "data": {
            "text/plain": [
              "dict_values([{'Patient Name': 'Suresh', 'Doctor': 'Dr. Pal', 'Date': '2023-10-06', 'Reason': 'Checkup', 'Prescription': ['Medication A', 'Medication B'], 'Diagnosis': 'Healthy'}, {'Patient Name': 'Ram', 'Doctor': 'Dr. Roy', 'Date': '2023-09-15', 'Reason': 'Fever', 'Prescription': ['Antibiotic X'], 'Diagnosis': 'Respiratory Infection'}, {'Patient Name': 'Hari', 'Doctor': 'Dr. Mallick', 'Date': '2023-08-25', 'Reason': 'Back Pain', 'Prescription': ['Pain Reliever Y', 'Physical Therapy'], 'Diagnosis': 'Muscle Strain'}, {'Patient Name': 'Robin', 'Doctor': 'Dr. Mallick', 'Date': '2023-08-29', 'Reason': 'Back Pain', 'Prescription': ['Pain Reliever Y', 'Physical Therapy'], 'Diagnosis': 'Muscle Strain'}])"
            ]
          },
          "metadata": {},
          "execution_count": 10
        }
      ]
    },
    {
      "cell_type": "code",
      "source": [
        "# Initialize a dictionary to store the count of patients for each doctor\n",
        "doctor_patient_count = {}\n",
        "\n",
        "# Iterate through the patient_visits dictionary\n",
        "for visit_data in patient_visits.values():\n",
        "    doctor_name = visit_data[\"Doctor\"]\n",
        "\n",
        "    # Check if the doctor_name is already in the doctor_patient_count dictionary\n",
        "    if doctor_name in doctor_patient_count:\n",
        "        # Increment the count if the doctor is already in the dictionary\n",
        "        doctor_patient_count[doctor_name] += 1\n",
        "    else:\n",
        "        # Initialize the count to 1 if the doctor is not in the dictionary\n",
        "        doctor_patient_count[doctor_name] = 1\n",
        "\n",
        "# Print the count of patients for each doctor\n",
        "for doctor, patient_count in doctor_patient_count.items():\n",
        "    print(f\"Doctor {doctor} has seen {patient_count} patients.\")\n"
      ],
      "metadata": {
        "colab": {
          "base_uri": "https://localhost:8080/"
        },
        "id": "5PxGUAeVNC9c",
        "outputId": "d2d269ba-d950-4a89-d705-e3c4192cb165"
      },
      "execution_count": null,
      "outputs": [
        {
          "output_type": "stream",
          "name": "stdout",
          "text": [
            "Doctor Dr. Pal has seen 1 patients.\n",
            "Doctor Dr. Roy has seen 1 patients.\n",
            "Doctor Dr. Mallick has seen 2 patients.\n"
          ]
        }
      ]
    },
    {
      "cell_type": "code",
      "source": [],
      "metadata": {
        "id": "_AoYWfztNbYE"
      },
      "execution_count": null,
      "outputs": []
    },
    {
      "cell_type": "markdown",
      "source": [
        "# 13.10.23 class"
      ],
      "metadata": {
        "id": "2Bt24WLiwk42"
      }
    },
    {
      "cell_type": "code",
      "source": [
        "######################################\n",
        "# EXAMPLE: Exceptions and input\n",
        "######################################\n",
        "a = int(input(\"Tell me one number: \"))\n",
        "b = int(input(\"Tell me another number: \"))\n",
        "print(\"a/b = \", a/b)\n",
        "print(\"a+b = \", a+b)"
      ],
      "metadata": {
        "colab": {
          "base_uri": "https://localhost:8080/",
          "height": 262
        },
        "id": "S_t8bCHZxEG-",
        "outputId": "4e2251ea-e018-4c57-b320-fb23bb21ac97"
      },
      "execution_count": null,
      "outputs": [
        {
          "name": "stdout",
          "output_type": "stream",
          "text": [
            "Tell me one number: 23\n",
            "Tell me another number: 0\n"
          ]
        },
        {
          "output_type": "error",
          "ename": "ZeroDivisionError",
          "evalue": "ignored",
          "traceback": [
            "\u001b[0;31m---------------------------------------------------------------------------\u001b[0m",
            "\u001b[0;31mZeroDivisionError\u001b[0m                         Traceback (most recent call last)",
            "\u001b[0;32m<ipython-input-3-4f7d61232453>\u001b[0m in \u001b[0;36m<cell line: 6>\u001b[0;34m()\u001b[0m\n\u001b[1;32m      4\u001b[0m \u001b[0ma\u001b[0m \u001b[0;34m=\u001b[0m \u001b[0mint\u001b[0m\u001b[0;34m(\u001b[0m\u001b[0minput\u001b[0m\u001b[0;34m(\u001b[0m\u001b[0;34m\"Tell me one number: \"\u001b[0m\u001b[0;34m)\u001b[0m\u001b[0;34m)\u001b[0m\u001b[0;34m\u001b[0m\u001b[0;34m\u001b[0m\u001b[0m\n\u001b[1;32m      5\u001b[0m \u001b[0mb\u001b[0m \u001b[0;34m=\u001b[0m \u001b[0mint\u001b[0m\u001b[0;34m(\u001b[0m\u001b[0minput\u001b[0m\u001b[0;34m(\u001b[0m\u001b[0;34m\"Tell me another number: \"\u001b[0m\u001b[0;34m)\u001b[0m\u001b[0;34m)\u001b[0m\u001b[0;34m\u001b[0m\u001b[0;34m\u001b[0m\u001b[0m\n\u001b[0;32m----> 6\u001b[0;31m \u001b[0mprint\u001b[0m\u001b[0;34m(\u001b[0m\u001b[0;34m\"a/b = \"\u001b[0m\u001b[0;34m,\u001b[0m \u001b[0ma\u001b[0m\u001b[0;34m/\u001b[0m\u001b[0mb\u001b[0m\u001b[0;34m)\u001b[0m\u001b[0;34m\u001b[0m\u001b[0;34m\u001b[0m\u001b[0m\n\u001b[0m\u001b[1;32m      7\u001b[0m \u001b[0mprint\u001b[0m\u001b[0;34m(\u001b[0m\u001b[0;34m\"a+b = \"\u001b[0m\u001b[0;34m,\u001b[0m \u001b[0ma\u001b[0m\u001b[0;34m+\u001b[0m\u001b[0mb\u001b[0m\u001b[0;34m)\u001b[0m\u001b[0;34m\u001b[0m\u001b[0;34m\u001b[0m\u001b[0m\n",
            "\u001b[0;31mZeroDivisionError\u001b[0m: division by zero"
          ]
        }
      ]
    },
    {
      "cell_type": "code",
      "source": [
        "try:\n",
        "    a = int(input(\"Tell me one number: \"))\n",
        "    b = int(input(\"Tell me another number: \"))\n",
        "    print(\"a/b = \", a/b)\n",
        "    print(\"a+b = \", a+b)\n",
        "except:\n",
        "    print(\"Bug in user input.\")\n"
      ],
      "metadata": {
        "colab": {
          "base_uri": "https://localhost:8080/"
        },
        "id": "fnBWOTygwoKG",
        "outputId": "9c9228a4-8595-4f93-99dc-191edad581bd"
      },
      "execution_count": null,
      "outputs": [
        {
          "output_type": "stream",
          "name": "stdout",
          "text": [
            "Tell me one number: 23\n",
            "Tell me another number: 0\n",
            "Bug in user input.\n"
          ]
        }
      ]
    },
    {
      "cell_type": "code",
      "source": [
        "try:\n",
        "    a = int(input(\"Tell me one number: \"))\n",
        "    b = int(input(\"Tell me another number: \"))\n",
        "    print(\"a/b = \", a/b)\n",
        "    print(\"a+b = \", a+b)\n",
        "except ValueError:\n",
        "    print(\"Could not convert to a number.\")\n",
        "except ZeroDivisionError:\n",
        "    print(\"Can't divide by zero\")\n",
        "except:\n",
        "    print(\"Something went very wrong.\")"
      ],
      "metadata": {
        "colab": {
          "base_uri": "https://localhost:8080/"
        },
        "id": "mOuwWxF0wwXG",
        "outputId": "a0c5edf6-28b2-421a-c8fa-c6b9560f4768"
      },
      "execution_count": null,
      "outputs": [
        {
          "output_type": "stream",
          "name": "stdout",
          "text": [
            "Tell me one number: 34\n",
            "Tell me another number: 0\n",
            "Can't divide by zero\n"
          ]
        }
      ]
    },
    {
      "cell_type": "code",
      "source": [
        "######################################\n",
        "# EXAMPLE: Raising your own exceptions\n",
        "######################################\n",
        "def get_ratios(L1, L2):\n",
        "    \"\"\" Assumes: L1 and L2 are lists of equal length of numbers\n",
        "        Returns: a list containing L1[i]/L2[i] \"\"\"\n",
        "    ratios = []\n",
        "    for index in range(len(L1)):\n",
        "        try:\n",
        "            ratios.append(L1[index]/L2[index])\n",
        "        except ZeroDivisionError:\n",
        "            ratios.append(float('nan')) #nan = Not a Number\n",
        "        except:\n",
        "            raise ValueError('get_ratios called with bad arg')\n",
        "        else:\n",
        "            print(\"success\")\n",
        "        finally:\n",
        "            print(\"executed no matter what!\")\n",
        "    return ratios\n",
        "\n",
        "print(get_ratios([1, 4], [2, 4]))"
      ],
      "metadata": {
        "colab": {
          "base_uri": "https://localhost:8080/"
        },
        "id": "X6lA7t2hw9sF",
        "outputId": "3a734a8a-813d-45a5-b74a-781d8c75f555"
      },
      "execution_count": null,
      "outputs": [
        {
          "output_type": "stream",
          "name": "stdout",
          "text": [
            "success\n",
            "executed no matter what!\n",
            "success\n",
            "executed no matter what!\n",
            "[0.5, 1.0]\n"
          ]
        }
      ]
    },
    {
      "cell_type": "code",
      "source": [
        "#######################################\n",
        "## EXAMPLE: Exceptions and lists\n",
        "#######################################\n",
        "def get_stats(class_list):\n",
        "\tnew_stats = []\n",
        "\tfor person in class_list:\n",
        "\t\tnew_stats.append([person[0], person[1], avg(person[1])])\n",
        "\treturn new_stats\n",
        "\n",
        "# avg function: version without an exception\n",
        "#def avg(grades):\n",
        "#    return (sum(grades))/len(grades)\n",
        "\n",
        "# avg function: version with an exception\n",
        "def avg(grades):\n",
        "    try:\n",
        "        return sum(grades)/len(grades)\n",
        "    except ZeroDivisionError:\n",
        "        print('warning: no grades data')\n",
        "        return 0.0\n",
        "\n",
        "'''\n",
        "# avg function: version with assert\n",
        "def avg(grades):\n",
        "    assert len(grades) != 0, 'warning: no grades data'\n",
        "    return sum(grades)/len(grades)'''"
      ],
      "metadata": {
        "colab": {
          "base_uri": "https://localhost:8080/",
          "height": 36
        },
        "id": "BkQypRPRxQNV",
        "outputId": "6165fa5c-f99c-4afe-fa2a-8e0e05182815"
      },
      "execution_count": null,
      "outputs": [
        {
          "output_type": "execute_result",
          "data": {
            "text/plain": [
              "\"\\n# avg function: version with assert\\ndef avg(grades):\\n    assert len(grades) != 0, 'warning: no grades data'\\n    return sum(grades)/len(grades)\""
            ],
            "application/vnd.google.colaboratory.intrinsic+json": {
              "type": "string"
            }
          },
          "metadata": {},
          "execution_count": 16
        }
      ]
    },
    {
      "cell_type": "code",
      "source": [
        "\n",
        "test_grades = [[['peter', 'parker'], [80.0, 70.0, 85.0]],\n",
        "              [['bruce', 'wayne'], [100.0, 80.0, 74.0]],\n",
        "              [['captain', 'america'], [80.0, 70.0, 96.0]],\n",
        "              [['deadpool'], []]]\n",
        "\n",
        "print(get_stats(test_grades))"
      ],
      "metadata": {
        "colab": {
          "base_uri": "https://localhost:8080/"
        },
        "id": "1QsNL_-7x2Km",
        "outputId": "8333f91b-5023-40f1-97c8-749ffb0cae09"
      },
      "execution_count": null,
      "outputs": [
        {
          "output_type": "stream",
          "name": "stdout",
          "text": [
            "warning: no grades data\n",
            "[[['peter', 'parker'], [80.0, 70.0, 85.0], 78.33333333333333], [['bruce', 'wayne'], [100.0, 80.0, 74.0], 84.66666666666667], [['captain', 'america'], [80.0, 70.0, 96.0], 82.0], [['deadpool'], [], 0.0]]\n"
          ]
        }
      ]
    },
    {
      "cell_type": "code",
      "source": [
        "#### Class in Python\n",
        "\n",
        "## Patient Record\n",
        "class record:\n",
        "\n",
        "  # Initialization of the variable\n",
        "  pname = ''\n",
        "  age = 0\n",
        "  doctor = ''\n",
        "  reason = ''\n",
        "\n",
        "  # Defining the variables\n",
        "  def __init__(self, pname, age, doctor, reason):\n",
        "    self.pname = pname\n",
        "    self.age = age\n",
        "    self.doctor = doctor\n",
        "    self.reason = reason\n",
        "\n",
        "  def show_record(self):\n",
        "    print(\"Patient Name:\", self.pname, \",\", \"Age: \", self.age, \",\", \"Doctor: \", self.doctor, \",\", \"Reason for Coming: \", self.reason)\n",
        "\n",
        "p1 = record(\"Sakshi\", 34, \"Dr Mallick\", \"Fever\")\n",
        "p1.show_record()\n"
      ],
      "metadata": {
        "id": "7xprYf_-x9-V"
      },
      "execution_count": null,
      "outputs": []
    },
    {
      "cell_type": "code",
      "source": [],
      "metadata": {
        "colab": {
          "base_uri": "https://localhost:8080/"
        },
        "id": "ShvtWtwFuTCz",
        "outputId": "08b15349-643b-410e-adb5-6fd7e03d5e67"
      },
      "execution_count": null,
      "outputs": [
        {
          "output_type": "stream",
          "name": "stdout",
          "text": [
            "Patient Name: Sakshi , Age:  34 , Doctor:  Dr Mallick , Reason for Coming:  Fever\n"
          ]
        }
      ]
    },
    {
      "cell_type": "code",
      "source": [],
      "metadata": {
        "id": "W-RKJu9-usFS"
      },
      "execution_count": null,
      "outputs": []
    },
    {
      "cell_type": "markdown",
      "source": [
        "## 19.10.2023"
      ],
      "metadata": {
        "id": "H5A5BZAcI6oB"
      }
    },
    {
      "cell_type": "code",
      "source": [
        "# Base class for medical professionals\n",
        "class MedicalProfessional:\n",
        "    def __init__(self, name, specialty):\n",
        "        self.name = name\n",
        "        self.specialty = specialty\n",
        "\n",
        "    def diagnose_patient(self, patient):\n",
        "        print(f\"{self.name}, a {self.specialty}, is diagnosing {patient}'s condition.\")\n",
        "\n",
        "# Subclass for doctors, inheriting from MedicalProfessional\n",
        "class Doctor(MedicalProfessional):\n",
        "    def prescribe_medication(self, patient, medication):\n",
        "        print(f\"{self.name}, a {self.specialty}, is prescribing {medication} to {patient}.\")\n",
        "\n",
        "# Subclass for nurses, inheriting from MedicalProfessional\n",
        "class Nurse(MedicalProfessional):\n",
        "    def provide_care(self, patient):\n",
        "        print(f\"{self.name}, a {self.specialty}, is providing care to {patient}.\")\n",
        "\n",
        "# Subclass for surgeons, inheriting from Doctor\n",
        "class Surgeon(Doctor):\n",
        "    def perform_surgery(self, patient, procedure):\n",
        "        print(f\"{self.name}, a {self.specialty}, is performing {procedure} on {patient}.\")\n",
        "\n",
        "\n"
      ],
      "metadata": {
        "id": "gknxvynhJAMY"
      },
      "execution_count": 4,
      "outputs": []
    },
    {
      "cell_type": "code",
      "source": [
        "\n",
        "# Example usage\n",
        "doctor_john = Doctor(\"Dr. John\", \"Cardiologist\")\n",
        "nurse_mary = Nurse(\"Nurse Mary\", \"Pediatric Nurse\")\n",
        "surgeon_emily = Surgeon(\"Dr. Emily\", \"Neurosurgeon\")\n",
        "\n",
        "patient_name = \"Alice\"\n",
        "doctor_john.diagnose_patient(patient_name)\n",
        "doctor_john.prescribe_medication(patient_name, \"Aspirin\")\n",
        "nurse_mary.provide_care(patient_name)\n",
        "surgeon_emily.perform_surgery(patient_name, \"Brain Surgery\")"
      ],
      "metadata": {
        "colab": {
          "base_uri": "https://localhost:8080/"
        },
        "id": "ow3-gRRsI862",
        "outputId": "869c5d3c-ea7f-4810-ee84-ea5b2a9173b7"
      },
      "execution_count": 5,
      "outputs": [
        {
          "output_type": "stream",
          "name": "stdout",
          "text": [
            "Dr. John, a Cardiologist, is diagnosing Alice's condition.\n",
            "Dr. John, a Cardiologist, is prescribing Aspirin to Alice.\n",
            "Nurse Mary, a Pediatric Nurse, is providing care to Alice.\n",
            "Dr. Emily, a Neurosurgeon, is performing Brain Surgery on Alice.\n"
          ]
        }
      ]
    },
    {
      "cell_type": "code",
      "source": [
        "class Person:\n",
        "    def __init__(self, name, age):\n",
        "        self.name = name\n",
        "        self.age = age\n",
        "\n",
        "    def introduce(self):\n",
        "        return f\"My name is {self.name} and I am {self.age} years old.\"\n",
        "\n",
        "class Patient(Person):\n",
        "    def __init__(self, name, age, patient_id):\n",
        "        super().__init__(name, age)\n",
        "        self.patient_id = patient_id\n",
        "        self.medical_records = []\n",
        "\n",
        "    def add_medical_record(self, record):\n",
        "        self.medical_records.append(record)\n",
        "\n",
        "class Doctor(Person):\n",
        "    def __init__(self, name, age, doctor_id, specialty):\n",
        "        super().__init__(name, age)\n",
        "        self.doctor_id = doctor_id\n",
        "        self.specialty = specialty\n",
        "\n",
        "    def diagnose_patient(self, patient, diagnosis):\n",
        "        return f\"Dr. {self.name} diagnosed {patient.name} with {diagnosis}.\"\n",
        "\n"
      ],
      "metadata": {
        "id": "458tkAxUJH7G"
      },
      "execution_count": 6,
      "outputs": []
    },
    {
      "cell_type": "code",
      "source": [
        "# Example usage\n",
        "patient_john = Patient(\"John\", 35, \"P12345\")\n",
        "doctor_emily = Doctor(\"Emily\", 42, \"D5678\", \"Cardiologist\")\n",
        "\n",
        "print(patient_john.introduce())\n",
        "print(doctor_emily.introduce())\n",
        "\n",
        "print(doctor_emily.diagnose_patient(patient_john, \"Hypertension\"))\n",
        "\n",
        "patient_john.add_medical_record(\"High blood pressure diagnosed.\")\n",
        "patient_john.add_medical_record(\"Prescribed medication for hypertension.\")\n",
        "\n",
        "print(f\"Medical records for {patient_john.name}:\")\n",
        "for record in patient_john.medical_records:\n",
        "    print(record)\n"
      ],
      "metadata": {
        "colab": {
          "base_uri": "https://localhost:8080/"
        },
        "id": "9V5LBk13JWjP",
        "outputId": "36e92e1e-c101-4d42-9273-532eaa495c33"
      },
      "execution_count": 8,
      "outputs": [
        {
          "output_type": "stream",
          "name": "stdout",
          "text": [
            "My name is John and I am 35 years old.\n",
            "My name is Emily and I am 42 years old.\n",
            "Dr. Emily diagnosed John with Hypertension.\n",
            "Medical records for John:\n",
            "High blood pressure diagnosed.\n",
            "Prescribed medication for hypertension.\n"
          ]
        }
      ]
    },
    {
      "cell_type": "code",
      "source": [],
      "metadata": {
        "id": "T04ltyKiMrUG"
      },
      "execution_count": null,
      "outputs": []
    }
  ]
}