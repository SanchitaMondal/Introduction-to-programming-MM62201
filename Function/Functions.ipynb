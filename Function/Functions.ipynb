{
  "nbformat": 4,
  "nbformat_minor": 0,
  "metadata": {
    "colab": {
      "provenance": []
    },
    "kernelspec": {
      "name": "python3",
      "display_name": "Python 3"
    },
    "language_info": {
      "name": "python"
    }
  },
  "cells": [
    {
      "cell_type": "code",
      "execution_count": null,
      "metadata": {
        "id": "Uy3iyTgSdDPg"
      },
      "outputs": [],
      "source": [
        "#########################\n",
        "## EXAMPLE: combinations of print and return\n",
        "#########################"
      ]
    },
    {
      "cell_type": "code",
      "source": [
        "def is_even_with_return( i ):\n",
        "    \"\"\"\n",
        "    Input: i, a positive int\n",
        "    Returns True if i is even, otherwise False\n",
        "    \"\"\"\n",
        "\n",
        "    print('with return')\n",
        "    remainder = i % 2\n",
        "    return remainder == 0\n",
        "\n",
        "is_even_with_return(3)"
      ],
      "metadata": {
        "colab": {
          "base_uri": "https://localhost:8080/"
        },
        "id": "GHWv4iKgf1VG",
        "outputId": "c55bec88-f6ae-4e64-ba83-b577ac3952bf"
      },
      "execution_count": 5,
      "outputs": [
        {
          "output_type": "stream",
          "name": "stdout",
          "text": [
            "with return\n"
          ]
        },
        {
          "output_type": "execute_result",
          "data": {
            "text/plain": [
              "False"
            ]
          },
          "metadata": {},
          "execution_count": 5
        }
      ]
    },
    {
      "cell_type": "code",
      "source": [
        "print(is_even_with_return(3))"
      ],
      "metadata": {
        "colab": {
          "base_uri": "https://localhost:8080/"
        },
        "id": "Zv0BRUCEgC-U",
        "outputId": "a35a19f7-b479-455d-c068-ac98c30cd086"
      },
      "execution_count": 3,
      "outputs": [
        {
          "output_type": "stream",
          "name": "stdout",
          "text": [
            "with return\n",
            "False\n"
          ]
        }
      ]
    },
    {
      "cell_type": "code",
      "source": [
        "def is_even_without_return( i ):\n",
        "    \"\"\"\n",
        "    Input: i, a positive int\n",
        "    Does not return anything\n",
        "    \"\"\"\n",
        "    print('without return')\n",
        "    remainder = i % 2\n",
        "\n",
        "is_even_without_return(3)\n"
      ],
      "metadata": {
        "colab": {
          "base_uri": "https://localhost:8080/"
        },
        "id": "F8pMfVEje3R4",
        "outputId": "53d3961f-fbe4-4d52-ab0d-25999f410010"
      },
      "execution_count": 8,
      "outputs": [
        {
          "output_type": "stream",
          "name": "stdout",
          "text": [
            "without return\n"
          ]
        }
      ]
    },
    {
      "cell_type": "code",
      "source": [
        "print(is_even_without_return(3) )"
      ],
      "metadata": {
        "colab": {
          "base_uri": "https://localhost:8080/"
        },
        "id": "kdhLAufmgX9L",
        "outputId": "ff48c277-d20d-4852-b904-980bbc7b4dfa"
      },
      "execution_count": 9,
      "outputs": [
        {
          "output_type": "stream",
          "name": "stdout",
          "text": [
            "without return\n",
            "None\n"
          ]
        }
      ]
    },
    {
      "cell_type": "code",
      "source": [
        "#########################\n",
        "## EXAMPLE: applying functions to repeat same task many times\n",
        "#########################"
      ],
      "metadata": {
        "id": "lo4erGclfqQf"
      },
      "execution_count": null,
      "outputs": []
    },
    {
      "cell_type": "code",
      "source": [
        "# Simple is_even function definition\n",
        "def is_even( i ):\n",
        "    \"\"\"\n",
        "    Input: i, a positive int\n",
        "    Returns True if i is even, otherwise False\n",
        "    \"\"\"\n",
        "    remainder = i % 2\n",
        "    return remainder == 0\n",
        "\n"
      ],
      "metadata": {
        "id": "HXiyuycofw47"
      },
      "execution_count": 10,
      "outputs": []
    },
    {
      "cell_type": "code",
      "source": [
        "# Use the is_even function later\n",
        "print(\"All numbers between 0 and 20: even or not\")\n",
        "for i in range(20):\n",
        "    if is_even(i):\n",
        "        print(i, \"even\")\n",
        "    else:\n",
        "        print(i, \"odd\")"
      ],
      "metadata": {
        "colab": {
          "base_uri": "https://localhost:8080/"
        },
        "id": "ZIPGknzng4pO",
        "outputId": "860b617a-d9d7-436a-ab8a-bfbaa7a22c8d"
      },
      "execution_count": 11,
      "outputs": [
        {
          "output_type": "stream",
          "name": "stdout",
          "text": [
            "All numbers between 0 and 20: even or not\n",
            "0 even\n",
            "1 odd\n",
            "2 even\n",
            "3 odd\n",
            "4 even\n",
            "5 odd\n",
            "6 even\n",
            "7 odd\n",
            "8 even\n",
            "9 odd\n",
            "10 even\n",
            "11 odd\n",
            "12 even\n",
            "13 odd\n",
            "14 even\n",
            "15 odd\n",
            "16 even\n",
            "17 odd\n",
            "18 even\n",
            "19 odd\n"
          ]
        }
      ]
    },
    {
      "cell_type": "code",
      "source": [
        "\n",
        "#########################\n",
        "## EXAMPLE: functions as arguments\n",
        "#########################\n"
      ],
      "metadata": {
        "id": "jB_qgAs2fgkA"
      },
      "execution_count": null,
      "outputs": []
    },
    {
      "cell_type": "code",
      "source": [
        "def func_a():\n",
        "    print('inside func_a')\n"
      ],
      "metadata": {
        "id": "BYtCke4OfYW7"
      },
      "execution_count": 12,
      "outputs": []
    },
    {
      "cell_type": "code",
      "source": [
        "def func_b(y):\n",
        "    print('inside func_b')\n",
        "    return y"
      ],
      "metadata": {
        "id": "BnzqQl4lfYeQ"
      },
      "execution_count": 13,
      "outputs": []
    },
    {
      "cell_type": "code",
      "source": [
        "def func_c(z):\n",
        "    print('inside func_c')\n",
        "    return z()\n",
        "\n",
        "print(func_a())\n",
        "print(5+func_b(2))\n",
        "print(func_c(func_a))\n"
      ],
      "metadata": {
        "colab": {
          "base_uri": "https://localhost:8080/"
        },
        "id": "bmQ-8aQWfVg0",
        "outputId": "f460a8bd-c753-4b51-c5fb-5e6cf7373345"
      },
      "execution_count": 14,
      "outputs": [
        {
          "output_type": "stream",
          "name": "stdout",
          "text": [
            "inside func_a\n",
            "None\n",
            "inside func_b\n",
            "7\n",
            "inside func_c\n",
            "inside func_a\n",
            "None\n"
          ]
        }
      ]
    },
    {
      "cell_type": "code",
      "source": [
        "#########################\n",
        "## EXAMPLE: returning function objects\n",
        "#########################"
      ],
      "metadata": {
        "id": "vaPMkzokfOs7"
      },
      "execution_count": null,
      "outputs": []
    },
    {
      "cell_type": "code",
      "source": [
        "def f():\n",
        "    def x(a, b):\n",
        "        return a+b\n",
        "    return x\n",
        "\n",
        "# the first part, f(), returns a function object\n",
        "# then apply that function with parameters 3 and 4\n",
        "val = f()(3,4)\n",
        "print(val)\n"
      ],
      "metadata": {
        "colab": {
          "base_uri": "https://localhost:8080/"
        },
        "id": "onaUkn3bfKMR",
        "outputId": "27a96093-9725-485b-c527-2e0b9991d002"
      },
      "execution_count": 15,
      "outputs": [
        {
          "output_type": "stream",
          "name": "stdout",
          "text": [
            "7\n"
          ]
        }
      ]
    },
    {
      "cell_type": "code",
      "source": [
        "\n",
        "#########################\n",
        "## EXAMPLE: shows accessing variables outside scope\n",
        "#########################"
      ],
      "metadata": {
        "id": "ClYHhieBfIH2"
      },
      "execution_count": null,
      "outputs": []
    },
    {
      "cell_type": "code",
      "source": [
        "def f(y):\n",
        "    x = 1\n",
        "    x += 1\n",
        "    print(x)\n",
        "x = 5\n",
        "f(x)\n",
        "print(x)"
      ],
      "metadata": {
        "colab": {
          "base_uri": "https://localhost:8080/"
        },
        "id": "ef4xw58Ke3VM",
        "outputId": "880fec6f-52e9-452d-ebc3-b41f4c6de5ab"
      },
      "execution_count": 16,
      "outputs": [
        {
          "output_type": "stream",
          "name": "stdout",
          "text": [
            "2\n",
            "5\n"
          ]
        }
      ]
    },
    {
      "cell_type": "code",
      "source": [
        "def g(y):\n",
        "    print(z)\n",
        "    print(z+1)\n",
        "z = 5\n",
        "g(z)\n",
        "print(z)"
      ],
      "metadata": {
        "colab": {
          "base_uri": "https://localhost:8080/"
        },
        "id": "Y4v0nns9e3YR",
        "outputId": "c82b7a94-1cd6-4aa8-b852-bbe1ac8c4f3c"
      },
      "execution_count": 18,
      "outputs": [
        {
          "output_type": "stream",
          "name": "stdout",
          "text": [
            "5\n",
            "6\n",
            "5\n"
          ]
        }
      ]
    },
    {
      "cell_type": "code",
      "source": [
        "def h(y):\n",
        "    pass\n",
        "    #print(x)\n",
        "    x += 1 #leads to an error without line `global x` inside h\n",
        "x = 5\n",
        "h(x)\n",
        "print(x)"
      ],
      "metadata": {
        "colab": {
          "base_uri": "https://localhost:8080/",
          "height": 349
        },
        "id": "atCs_TS2e3bX",
        "outputId": "4e5788b1-5927-483b-eb36-6c1ec660476e"
      },
      "execution_count": 25,
      "outputs": [
        {
          "output_type": "error",
          "ename": "UnboundLocalError",
          "evalue": "ignored",
          "traceback": [
            "\u001b[0;31m---------------------------------------------------------------------------\u001b[0m",
            "\u001b[0;31mUnboundLocalError\u001b[0m                         Traceback (most recent call last)",
            "\u001b[0;32m<ipython-input-25-2e04a7559a51>\u001b[0m in \u001b[0;36m<cell line: 6>\u001b[0;34m()\u001b[0m\n\u001b[1;32m      4\u001b[0m     \u001b[0mx\u001b[0m \u001b[0;34m+=\u001b[0m \u001b[0;36m1\u001b[0m \u001b[0;31m#leads to an error without line `global x` inside h\u001b[0m\u001b[0;34m\u001b[0m\u001b[0;34m\u001b[0m\u001b[0m\n\u001b[1;32m      5\u001b[0m \u001b[0mx\u001b[0m \u001b[0;34m=\u001b[0m \u001b[0;36m5\u001b[0m\u001b[0;34m\u001b[0m\u001b[0;34m\u001b[0m\u001b[0m\n\u001b[0;32m----> 6\u001b[0;31m \u001b[0mh\u001b[0m\u001b[0;34m(\u001b[0m\u001b[0mx\u001b[0m\u001b[0;34m)\u001b[0m\u001b[0;34m\u001b[0m\u001b[0;34m\u001b[0m\u001b[0m\n\u001b[0m\u001b[1;32m      7\u001b[0m \u001b[0mprint\u001b[0m\u001b[0;34m(\u001b[0m\u001b[0mx\u001b[0m\u001b[0;34m)\u001b[0m\u001b[0;34m\u001b[0m\u001b[0;34m\u001b[0m\u001b[0m\n",
            "\u001b[0;32m<ipython-input-25-2e04a7559a51>\u001b[0m in \u001b[0;36mh\u001b[0;34m(y)\u001b[0m\n\u001b[1;32m      2\u001b[0m     \u001b[0;32mpass\u001b[0m\u001b[0;34m\u001b[0m\u001b[0;34m\u001b[0m\u001b[0m\n\u001b[1;32m      3\u001b[0m     \u001b[0;31m#print(x)\u001b[0m\u001b[0;34m\u001b[0m\u001b[0;34m\u001b[0m\u001b[0m\n\u001b[0;32m----> 4\u001b[0;31m     \u001b[0mx\u001b[0m \u001b[0;34m+=\u001b[0m \u001b[0;36m1\u001b[0m \u001b[0;31m#leads to an error without line `global x` inside h\u001b[0m\u001b[0;34m\u001b[0m\u001b[0;34m\u001b[0m\u001b[0m\n\u001b[0m\u001b[1;32m      5\u001b[0m \u001b[0mx\u001b[0m \u001b[0;34m=\u001b[0m \u001b[0;36m5\u001b[0m\u001b[0;34m\u001b[0m\u001b[0;34m\u001b[0m\u001b[0m\n\u001b[1;32m      6\u001b[0m \u001b[0mh\u001b[0m\u001b[0;34m(\u001b[0m\u001b[0mx\u001b[0m\u001b[0;34m)\u001b[0m\u001b[0;34m\u001b[0m\u001b[0;34m\u001b[0m\u001b[0m\n",
            "\u001b[0;31mUnboundLocalError\u001b[0m: local variable 'x' referenced before assignment"
          ]
        }
      ]
    },
    {
      "cell_type": "code",
      "source": [
        "#########################\n",
        "## EXAMPLE: hader scope example from slides\n",
        "#########################\n"
      ],
      "metadata": {
        "id": "HjKChl21e3eg"
      },
      "execution_count": 26,
      "outputs": []
    },
    {
      "cell_type": "code",
      "source": [
        "def g(x):\n",
        "    def h():\n",
        "      print(\"Inside h()\")\n",
        "      x = 'abc'\n",
        "    x = x + 1\n",
        "    print('in g(x): x =', x)\n",
        "    h()\n",
        "    return x\n",
        "\n",
        "x = 3\n",
        "z = g(x)\n",
        "print(\"z: \", z)"
      ],
      "metadata": {
        "colab": {
          "base_uri": "https://localhost:8080/"
        },
        "id": "-_RNxQB1jfWs",
        "outputId": "633f088f-35e3-4d4b-aa98-0ff1ef0f48fe"
      },
      "execution_count": 29,
      "outputs": [
        {
          "output_type": "stream",
          "name": "stdout",
          "text": [
            "in g(x): x = 4\n",
            "Inside h()\n",
            "z:  4\n"
          ]
        }
      ]
    },
    {
      "cell_type": "code",
      "source": [
        "#########################\n",
        "## EXAMPLE: complicated scope\n",
        "#########################\n"
      ],
      "metadata": {
        "id": "UokLq1dUe3h4"
      },
      "execution_count": 31,
      "outputs": []
    },
    {
      "cell_type": "code",
      "source": [
        "def f(x):\n",
        "   x = x + 1\n",
        "   print('in f(x): x =', x)\n",
        "   return x\n",
        "\n",
        "x = 3\n",
        "z = f(x)\n",
        "print('in main program scope: z =', z)\n",
        "print('in main program scope: x =', x)"
      ],
      "metadata": {
        "colab": {
          "base_uri": "https://localhost:8080/"
        },
        "id": "gcAgmtBmkCub",
        "outputId": "d39d19aa-f1ff-46c7-b1c4-b0e5b58399d7"
      },
      "execution_count": 30,
      "outputs": [
        {
          "output_type": "stream",
          "name": "stdout",
          "text": [
            "in f(x): x = 4\n",
            "in main program scope: z = 4\n",
            "in main program scope: x = 3\n"
          ]
        }
      ]
    },
    {
      "cell_type": "code",
      "source": [
        "def g(x):\n",
        "    def h(x):\n",
        "        x = x+1\n",
        "        print(\"in h(x): x = \", x)\n",
        "    x = x + 1\n",
        "    print('in g(x): x = ', x)\n",
        "    h(x)\n",
        "    return x\n",
        "\n",
        "x = 3\n",
        "z = g(x)\n",
        "print('in main program scope: x = ', x)\n",
        "print('in main program scope: z = ', z)"
      ],
      "metadata": {
        "colab": {
          "base_uri": "https://localhost:8080/"
        },
        "id": "Mk0hWu3jkD2A",
        "outputId": "e1d3a8d8-cd82-4c73-9382-a7ab612d848f"
      },
      "execution_count": 32,
      "outputs": [
        {
          "output_type": "stream",
          "name": "stdout",
          "text": [
            "in g(x): x =  4\n",
            "in h(x): x =  5\n",
            "in main program scope: x =  3\n",
            "in main program scope: z =  4\n"
          ]
        }
      ]
    },
    {
      "cell_type": "code",
      "source": [],
      "metadata": {
        "id": "VJCn_O36kGp5"
      },
      "execution_count": null,
      "outputs": []
    }
  ]
}