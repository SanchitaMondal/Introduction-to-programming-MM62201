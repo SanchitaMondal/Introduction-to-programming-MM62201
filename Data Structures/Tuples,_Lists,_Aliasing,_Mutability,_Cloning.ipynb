{
  "nbformat": 4,
  "nbformat_minor": 0,
  "metadata": {
    "colab": {
      "provenance": []
    },
    "kernelspec": {
      "name": "python3",
      "display_name": "Python 3"
    },
    "language_info": {
      "name": "python"
    }
  },
  "cells": [
    {
      "cell_type": "code",
      "source": [
        "#########################\n",
        "## EXAMPLE: returning a tuple\n",
        "#########################"
      ],
      "metadata": {
        "id": "Yrqg20cvfSeE"
      },
      "execution_count": null,
      "outputs": []
    },
    {
      "cell_type": "code",
      "source": [
        "def quotient_and_remainder(x, y):\n",
        "    q = x // y\n",
        "    r = x % y\n",
        "    return (q, r)\n",
        "\n",
        "(quot, rem) = quotient_and_remainder(5,3)\n",
        "print(quot)\n",
        "print(rem)"
      ],
      "metadata": {
        "colab": {
          "base_uri": "https://localhost:8080/"
        },
        "id": "GWtu4wvjfXe3",
        "outputId": "f53c4c18-a5e1-42dd-9a79-90cdf60e57ff"
      },
      "execution_count": 55,
      "outputs": [
        {
          "output_type": "stream",
          "name": "stdout",
          "text": [
            "1\n",
            "2\n"
          ]
        }
      ]
    },
    {
      "cell_type": "code",
      "execution_count": null,
      "metadata": {
        "id": "VJRQvYlxOSt4"
      },
      "outputs": [],
      "source": [
        "#########################\n",
        "## EXAMPLE: iterating over tuples\n",
        "#########################\n"
      ]
    },
    {
      "cell_type": "code",
      "source": [
        "def get_data(aTuple):\n",
        "    \"\"\"\n",
        "    aTuple, tuple of tuples (int, string)\n",
        "    Extracts all integers from aTuple and sets\n",
        "    them as elements in a new tuple.\n",
        "    Extracts all unique strings from aTuple\n",
        "    and sets them as elements in a new tuple.\n",
        "    Returns a tuple of the minimum integer, the\n",
        "    maximum integer, and the number of unique strings\n",
        "    \"\"\"\n",
        "    nums = ()    # empty tuple\n",
        "    words = ()\n",
        "    for t in aTuple:\n",
        "        # concatenating with a singleton tuple\n",
        "        nums = nums + (t[0],)\n",
        "        # only add words haven't added before\n",
        "        if t[1] not in words:\n",
        "            words = words + (t[1],)\n",
        "    min_n = min(nums)\n",
        "    max_n = max(nums)\n",
        "    unique_words = len(words)\n",
        "    return (min_n, max_n, unique_words)"
      ],
      "metadata": {
        "id": "xe7uOpyFfv2Y"
      },
      "execution_count": 57,
      "outputs": []
    },
    {
      "cell_type": "code",
      "source": [
        "test = ((1,\"a\"),(2, \"b\"),\n",
        "        (1,\"a\"),(7,\"b\"))\n",
        "(a, b, c) = get_data(test)\n",
        "print(\"a:\",a,\"b:\",b,\"c:\",c)"
      ],
      "metadata": {
        "colab": {
          "base_uri": "https://localhost:8080/"
        },
        "id": "XJvzWJqjfS9G",
        "outputId": "fffafe0c-0786-47c2-e62b-144157496602"
      },
      "execution_count": 58,
      "outputs": [
        {
          "output_type": "stream",
          "name": "stdout",
          "text": [
            "a: 1 b: 7 c: 2\n"
          ]
        }
      ]
    },
    {
      "cell_type": "code",
      "source": [
        "# apply to any data you want!\n",
        "tswift = ((2014,\"Katy\"),\n",
        "          (2014, \"Harry\"),\n",
        "          (2012,\"Jake\"),\n",
        "          (2010,\"Taylor\"),\n",
        "          (2008,\"Joe\"))\n",
        "(min_year, max_year, num_people) = get_data(tswift)\n",
        "print(\"From\", min_year, \"to\", max_year, \\\n",
        "        \"Taylor Swift wrote songs about\", num_people, \"people!\")"
      ],
      "metadata": {
        "colab": {
          "base_uri": "https://localhost:8080/"
        },
        "id": "1EJRh32XfTAj",
        "outputId": "9f4eb546-c393-4e82-c8fc-4c6aca6dc168"
      },
      "execution_count": 59,
      "outputs": [
        {
          "output_type": "stream",
          "name": "stdout",
          "text": [
            "From 2008 to 2014 Taylor Swift wrote songs about 5 people!\n"
          ]
        }
      ]
    },
    {
      "cell_type": "code",
      "source": [
        "#########################\n",
        "## EXAMPLE: sum of elements in a list\n",
        "#########################\n"
      ],
      "metadata": {
        "id": "iI0OhnYGe8Vp"
      },
      "execution_count": null,
      "outputs": []
    },
    {
      "cell_type": "code",
      "source": [
        "def sum_elem_method1(L):\n",
        "  total = 0\n",
        "  for i in range(len(L)):\n",
        "      total += L[i]\n",
        "  return total\n",
        ""
      ],
      "metadata": {
        "id": "oJdhNoWse8ZT"
      },
      "execution_count": 52,
      "outputs": []
    },
    {
      "cell_type": "code",
      "source": [
        "def sum_elem_method2(L):\n",
        "    total = 0\n",
        "    for i in L:\n",
        "        total += i\n",
        "    return total"
      ],
      "metadata": {
        "id": "s4wop-ayfAwP"
      },
      "execution_count": 53,
      "outputs": []
    },
    {
      "cell_type": "code",
      "source": [
        "print(sum_elem_method1([1,2,3,4]))\n",
        "print(sum_elem_method2([1,2,3,4]))"
      ],
      "metadata": {
        "colab": {
          "base_uri": "https://localhost:8080/"
        },
        "id": "4kBlKUhYe8c4",
        "outputId": "ec1f41b7-885e-4eca-d6f1-b409f4471f6d"
      },
      "execution_count": 54,
      "outputs": [
        {
          "output_type": "stream",
          "name": "stdout",
          "text": [
            "10\n",
            "10\n"
          ]
        }
      ]
    },
    {
      "cell_type": "code",
      "source": [
        "#########################\n",
        "## EXAMPLE: various list operations\n",
        "## put print(L) at different locations to see how it gets mutated\n",
        "#########################\n"
      ],
      "metadata": {
        "id": "V-Veku1ZYfcy"
      },
      "execution_count": 24,
      "outputs": []
    },
    {
      "cell_type": "code",
      "source": [
        "L1 = [2,1,3]\n",
        "L2 = [4,5,6]\n",
        "L3 = L1 + L2\n",
        "L1.extend([0,6])\n",
        "L1"
      ],
      "metadata": {
        "colab": {
          "base_uri": "https://localhost:8080/"
        },
        "id": "zYNTBkONYid-",
        "outputId": "1aadbc33-be59-4331-bd42-e6a185d23f82"
      },
      "execution_count": 29,
      "outputs": [
        {
          "output_type": "execute_result",
          "data": {
            "text/plain": [
              "[2, 1, 3, 0, 6]"
            ]
          },
          "metadata": {},
          "execution_count": 29
        }
      ]
    },
    {
      "cell_type": "code",
      "source": [
        "L3.extend([0,6])\n",
        "L3"
      ],
      "metadata": {
        "colab": {
          "base_uri": "https://localhost:8080/"
        },
        "id": "0WK8AF-_ZOTu",
        "outputId": "3bb3dd30-c5d1-4df2-b13d-9bfa41c730e8"
      },
      "execution_count": 30,
      "outputs": [
        {
          "output_type": "execute_result",
          "data": {
            "text/plain": [
              "[2, 1, 3, 4, 5, 6, 0, 6]"
            ]
          },
          "metadata": {},
          "execution_count": 30
        }
      ]
    },
    {
      "cell_type": "code",
      "source": [
        "L = [2,1,3,6,3,7,0]\n",
        "L.remove(2)\n",
        "L.remove(3)\n",
        "L"
      ],
      "metadata": {
        "colab": {
          "base_uri": "https://localhost:8080/"
        },
        "id": "TaAJVRueYkb9",
        "outputId": "048a9192-db53-4eda-a37e-a6b05eab9eb7"
      },
      "execution_count": 40,
      "outputs": [
        {
          "output_type": "execute_result",
          "data": {
            "text/plain": [
              "[1, 6, 3, 7, 0]"
            ]
          },
          "metadata": {},
          "execution_count": 40
        }
      ]
    },
    {
      "cell_type": "code",
      "source": [
        "del(L[1])\n",
        "L"
      ],
      "metadata": {
        "colab": {
          "base_uri": "https://localhost:8080/"
        },
        "id": "sUPnVeW3ZeQd",
        "outputId": "c0037159-2cf0-4d02-99c7-a670558712c3"
      },
      "execution_count": 41,
      "outputs": [
        {
          "output_type": "execute_result",
          "data": {
            "text/plain": [
              "[1, 3, 7, 0]"
            ]
          },
          "metadata": {},
          "execution_count": 41
        }
      ]
    },
    {
      "cell_type": "code",
      "source": [
        "L.pop()\n",
        "L"
      ],
      "metadata": {
        "colab": {
          "base_uri": "https://localhost:8080/"
        },
        "id": "lOGI646gbvap",
        "outputId": "0310ecd0-9aee-4763-c1fe-056dce6e4e3c"
      },
      "execution_count": 42,
      "outputs": [
        {
          "output_type": "execute_result",
          "data": {
            "text/plain": [
              "[1, 3, 7]"
            ]
          },
          "metadata": {},
          "execution_count": 42
        }
      ]
    },
    {
      "cell_type": "code",
      "source": [
        "s = \"I<3 cs\"\n",
        "print(list(s))\n",
        "print(s.split('<'))\n"
      ],
      "metadata": {
        "colab": {
          "base_uri": "https://localhost:8080/"
        },
        "id": "t4Hy2_BgYptm",
        "outputId": "33268f57-749e-4f95-9c68-df1b5e3c089d"
      },
      "execution_count": 43,
      "outputs": [
        {
          "output_type": "stream",
          "name": "stdout",
          "text": [
            "['I', '<', '3', ' ', 'c', 's']\n",
            "['I', '3 cs']\n"
          ]
        }
      ]
    },
    {
      "cell_type": "code",
      "source": [
        "L = ['a', 'b', 'c']\n",
        "print(''.join(L))\n",
        "print('_'.join(L))"
      ],
      "metadata": {
        "colab": {
          "base_uri": "https://localhost:8080/"
        },
        "id": "y1SzNRPScH3y",
        "outputId": "fdc96864-7da6-456d-dd0d-a25872ca3bd9"
      },
      "execution_count": 44,
      "outputs": [
        {
          "output_type": "stream",
          "name": "stdout",
          "text": [
            "abc\n",
            "a_b_c\n"
          ]
        }
      ]
    },
    {
      "cell_type": "code",
      "source": [
        "L=[9,6,0,3]\n",
        "print(sorted(L))"
      ],
      "metadata": {
        "colab": {
          "base_uri": "https://localhost:8080/"
        },
        "id": "hkekh2X-YsfU",
        "outputId": "72b0f4bb-da08-4ca9-fb21-70d9bca7795c"
      },
      "execution_count": 45,
      "outputs": [
        {
          "output_type": "stream",
          "name": "stdout",
          "text": [
            "[0, 3, 6, 9]\n"
          ]
        }
      ]
    },
    {
      "cell_type": "code",
      "source": [
        "print(L.sort())\n",
        "print(L)"
      ],
      "metadata": {
        "colab": {
          "base_uri": "https://localhost:8080/"
        },
        "id": "9xUEvLALcbSI",
        "outputId": "04151915-00d9-4007-ce32-ed7c64ea5637"
      },
      "execution_count": 48,
      "outputs": [
        {
          "output_type": "stream",
          "name": "stdout",
          "text": [
            "None\n",
            "[0, 3, 6, 9]\n"
          ]
        }
      ]
    },
    {
      "cell_type": "code",
      "source": [
        "#########################\n",
        "## EXAMPLE: aliasing\n",
        "#########################\n"
      ],
      "metadata": {
        "id": "aVe-1PTjX3CU"
      },
      "execution_count": 21,
      "outputs": []
    },
    {
      "cell_type": "code",
      "source": [
        "a = 1\n",
        "b = a\n",
        "print(a)\n",
        "print(b)"
      ],
      "metadata": {
        "colab": {
          "base_uri": "https://localhost:8080/"
        },
        "id": "m8B7aTV3X7I2",
        "outputId": "8193f004-353e-46a2-ada7-1a0fc8dd8050"
      },
      "execution_count": 22,
      "outputs": [
        {
          "output_type": "stream",
          "name": "stdout",
          "text": [
            "1\n",
            "1\n"
          ]
        }
      ]
    },
    {
      "cell_type": "code",
      "source": [
        "warm = ['red', 'yellow', 'orange']\n",
        "hot = warm\n",
        "hot.append('pink')\n",
        "print(hot)\n",
        "print(warm)"
      ],
      "metadata": {
        "colab": {
          "base_uri": "https://localhost:8080/"
        },
        "id": "6KPHTLnoX9XU",
        "outputId": "0b9b7d64-47c1-4530-cbcb-ae2f53aa27c0"
      },
      "execution_count": 23,
      "outputs": [
        {
          "output_type": "stream",
          "name": "stdout",
          "text": [
            "['red', 'yellow', 'orange', 'pink']\n",
            "['red', 'yellow', 'orange', 'pink']\n"
          ]
        }
      ]
    },
    {
      "cell_type": "code",
      "source": [
        "#########################\n",
        "## EXAMPLE: cloning\n",
        "#########################\n"
      ],
      "metadata": {
        "id": "rKqdjHPHWIxJ"
      },
      "execution_count": null,
      "outputs": []
    },
    {
      "cell_type": "code",
      "source": [
        "cool = ['blue', 'green', 'grey']\n",
        "chill = cool[:] #list(cool)/copy.copy(cool) # for dictionary dict(dictionary)\n",
        "chill.append('black')\n",
        "print(chill)\n",
        "print(cool)"
      ],
      "metadata": {
        "colab": {
          "base_uri": "https://localhost:8080/"
        },
        "id": "HRey2awRWJQs",
        "outputId": "8df18e3a-6061-48b6-81dc-62c4be5bf083"
      },
      "execution_count": 20,
      "outputs": [
        {
          "output_type": "stream",
          "name": "stdout",
          "text": [
            "['blue', 'green', 'grey', 'black']\n",
            "['blue', 'green', 'grey']\n"
          ]
        }
      ]
    },
    {
      "cell_type": "code",
      "source": [
        "#########################\n",
        "## EXAMPLE: sorting with/without mutation\n",
        "#########################\n"
      ],
      "metadata": {
        "id": "CtYBBJN4TK3b"
      },
      "execution_count": null,
      "outputs": []
    },
    {
      "cell_type": "code",
      "source": [
        "warm = ['red', 'yellow', 'orange']\n",
        "sortedwarm = warm.sort()\n",
        "print(warm)\n",
        "print(sortedwarm)\n"
      ],
      "metadata": {
        "colab": {
          "base_uri": "https://localhost:8080/"
        },
        "id": "ZLJ1UyFsTPzZ",
        "outputId": "a5c1d007-698f-4855-c4db-6ea22de94df8"
      },
      "execution_count": 17,
      "outputs": [
        {
          "output_type": "stream",
          "name": "stdout",
          "text": [
            "['orange', 'red', 'yellow']\n",
            "None\n"
          ]
        }
      ]
    },
    {
      "cell_type": "code",
      "source": [
        "my_list = [3, 1, 2]\n",
        "my_list.sort()  # Sorts the list in-place\n",
        "print(my_list)\n"
      ],
      "metadata": {
        "colab": {
          "base_uri": "https://localhost:8080/"
        },
        "id": "2nxYZrl_V-Ww",
        "outputId": "e41e157f-feae-4257-87aa-9c988bd8fb81"
      },
      "execution_count": 19,
      "outputs": [
        {
          "output_type": "stream",
          "name": "stdout",
          "text": [
            "[1, 2, 3]\n"
          ]
        }
      ]
    },
    {
      "cell_type": "code",
      "source": [
        "\n",
        "cool = ['grey', 'green', 'blue']\n",
        "sortedcool = sorted(cool)\n",
        "print(cool)\n",
        "print(sortedcool)"
      ],
      "metadata": {
        "colab": {
          "base_uri": "https://localhost:8080/"
        },
        "id": "gxq7u9tFTP2n",
        "outputId": "0162ea75-6188-4440-95ce-b1be9faed050"
      },
      "execution_count": 18,
      "outputs": [
        {
          "output_type": "stream",
          "name": "stdout",
          "text": [
            "['grey', 'green', 'blue']\n",
            "['blue', 'green', 'grey']\n"
          ]
        }
      ]
    },
    {
      "cell_type": "code",
      "source": [
        "#########################\n",
        "## EXAMPLE: lists of lists of lists...\n",
        "#########################\n"
      ],
      "metadata": {
        "id": "ncCA87HeS37I"
      },
      "execution_count": null,
      "outputs": []
    },
    {
      "cell_type": "code",
      "source": [
        "warm = ['yellow', 'orange']\n",
        "hot = ['red']\n",
        "brightcolors = [warm]\n",
        "brightcolors.append(hot)\n",
        "print(brightcolors)\n"
      ],
      "metadata": {
        "colab": {
          "base_uri": "https://localhost:8080/"
        },
        "id": "K-X-GxYMS68F",
        "outputId": "32f11596-1f1c-43e2-a753-d9df3b9004a4"
      },
      "execution_count": 15,
      "outputs": [
        {
          "output_type": "stream",
          "name": "stdout",
          "text": [
            "[['yellow', 'orange'], ['red']]\n"
          ]
        }
      ]
    },
    {
      "cell_type": "code",
      "source": [
        "hot.append('pink')\n",
        "print(hot)\n",
        "print(brightcolors)"
      ],
      "metadata": {
        "colab": {
          "base_uri": "https://localhost:8080/"
        },
        "id": "zGj7OXMYS--0",
        "outputId": "ffd05c3d-6a22-4254-e306-f5571dfb982a"
      },
      "execution_count": 16,
      "outputs": [
        {
          "output_type": "stream",
          "name": "stdout",
          "text": [
            "['red', 'pink']\n",
            "[['yellow', 'orange'], ['red', 'pink']]\n"
          ]
        }
      ]
    },
    {
      "cell_type": "code",
      "source": [
        "\n",
        "###############################\n",
        "## EXAMPLE: mutating a list while iterating over it\n",
        "###############################\n"
      ],
      "metadata": {
        "id": "oF9cQTvHOYxd"
      },
      "execution_count": null,
      "outputs": []
    },
    {
      "cell_type": "code",
      "source": [
        "def remove_dups(L1, L2):\n",
        "    for e in L1:\n",
        "        if e in L2:\n",
        "            L1.remove(e)\n"
      ],
      "metadata": {
        "id": "7XC0FvVyOY0h"
      },
      "execution_count": 11,
      "outputs": []
    },
    {
      "cell_type": "code",
      "source": [
        "def remove_dups_new(L1, L2):\n",
        "    L1_copy = L1[:]\n",
        "    for e in L1_copy:\n",
        "        if e in L2:\n",
        "            L1.remove(e)\n"
      ],
      "metadata": {
        "id": "0ZbdFWvzOY3u"
      },
      "execution_count": 12,
      "outputs": []
    },
    {
      "cell_type": "code",
      "source": [
        "L1 = [1, 2, 3, 4]\n",
        "L2 = [1, 2, 5, 6]\n",
        "remove_dups(L1, L2)\n",
        "print(L1, L2)"
      ],
      "metadata": {
        "colab": {
          "base_uri": "https://localhost:8080/"
        },
        "id": "YSB8r4m5OY7C",
        "outputId": "0d184784-1b59-4edd-dbc7-04e6e3610b45"
      },
      "execution_count": 13,
      "outputs": [
        {
          "output_type": "stream",
          "name": "stdout",
          "text": [
            "[2, 3, 4] [1, 2, 5, 6]\n"
          ]
        }
      ]
    },
    {
      "cell_type": "code",
      "source": [
        "L1 = [1, 2, 3, 4]\n",
        "L2 = [1, 2, 5, 6]\n",
        "remove_dups_new(L1, L2)\n",
        "print(L1, L2)"
      ],
      "metadata": {
        "colab": {
          "base_uri": "https://localhost:8080/"
        },
        "id": "0tmKfr2wQUCx",
        "outputId": "d6741451-e442-4e5a-c629-0fe58cc54591"
      },
      "execution_count": 14,
      "outputs": [
        {
          "output_type": "stream",
          "name": "stdout",
          "text": [
            "[3, 4] [1, 2, 5, 6]\n"
          ]
        }
      ]
    },
    {
      "cell_type": "code",
      "source": [
        "###############################\n",
        "## EXERCISE: Test yourself by predicting what the output is and\n",
        "##           what gets mutated then\n",
        "###############################"
      ],
      "metadata": {
        "id": "exgfjYFYOY-D"
      },
      "execution_count": null,
      "outputs": []
    },
    {
      "cell_type": "code",
      "source": [
        "cool = ['blue', 'green']\n",
        "warm = ['red', 'yellow', 'orange']\n",
        "print(cool)\n",
        "print(warm)"
      ],
      "metadata": {
        "colab": {
          "base_uri": "https://localhost:8080/"
        },
        "id": "pQdF6NQLOp33",
        "outputId": "013e00fd-710a-4d11-8d5a-f7dd8a431533"
      },
      "execution_count": 1,
      "outputs": [
        {
          "output_type": "stream",
          "name": "stdout",
          "text": [
            "['blue', 'green']\n",
            "['red', 'yellow', 'orange']\n"
          ]
        }
      ]
    },
    {
      "cell_type": "code",
      "source": [
        "colors1 = [cool]\n",
        "print(colors1)\n",
        "colors1.append(warm)\n",
        "print('colors1 = ', colors1)"
      ],
      "metadata": {
        "colab": {
          "base_uri": "https://localhost:8080/"
        },
        "id": "E69zQCgrOp7C",
        "outputId": "3a6b18c5-7866-42f9-c7dc-161407b4141c"
      },
      "execution_count": 2,
      "outputs": [
        {
          "output_type": "stream",
          "name": "stdout",
          "text": [
            "[['blue', 'green']]\n",
            "colors1 =  [['blue', 'green'], ['red', 'yellow', 'orange']]\n"
          ]
        }
      ]
    },
    {
      "cell_type": "code",
      "source": [
        "colors2 = [['blue', 'green'],\n",
        "          ['red', 'yellow', 'orange']]\n",
        "print('colors2 =', colors2)"
      ],
      "metadata": {
        "colab": {
          "base_uri": "https://localhost:8080/"
        },
        "id": "9bDtzrbgOp-I",
        "outputId": "ad0e284d-9e07-4b9b-8b4e-da065140b700"
      },
      "execution_count": 3,
      "outputs": [
        {
          "output_type": "stream",
          "name": "stdout",
          "text": [
            "colors2 = [['blue', 'green'], ['red', 'yellow', 'orange']]\n"
          ]
        }
      ]
    },
    {
      "cell_type": "code",
      "source": [
        "warm.remove('red')\n",
        "print('colors1 = ', colors1)\n",
        "print('colors2 =', colors2)"
      ],
      "metadata": {
        "colab": {
          "base_uri": "https://localhost:8080/"
        },
        "id": "NQXOJ9XOOqBi",
        "outputId": "2a2bd9a8-37d0-430f-be61-55a59cd90c57"
      },
      "execution_count": 4,
      "outputs": [
        {
          "output_type": "stream",
          "name": "stdout",
          "text": [
            "colors1 =  [['blue', 'green'], ['yellow', 'orange']]\n",
            "colors2 = [['blue', 'green'], ['red', 'yellow', 'orange']]\n"
          ]
        }
      ]
    },
    {
      "cell_type": "code",
      "source": [
        "for e in colors1:\n",
        "    print('e =', e)"
      ],
      "metadata": {
        "colab": {
          "base_uri": "https://localhost:8080/"
        },
        "id": "ZzW8rqYtOqFH",
        "outputId": "0f9fba67-9a84-4d7f-d9ef-fc135e22d951"
      },
      "execution_count": 5,
      "outputs": [
        {
          "output_type": "stream",
          "name": "stdout",
          "text": [
            "e = ['blue', 'green']\n",
            "e = ['yellow', 'orange']\n"
          ]
        }
      ]
    },
    {
      "cell_type": "code",
      "source": [
        "for e in colors1:\n",
        "    if type(e) == list:\n",
        "        for e1 in e:\n",
        "            print(e1)\n",
        "    else:\n",
        "        print(e)"
      ],
      "metadata": {
        "colab": {
          "base_uri": "https://localhost:8080/"
        },
        "id": "AEgT3u1yPTiQ",
        "outputId": "0634f43a-f777-46e1-e414-c19573e96957"
      },
      "execution_count": 6,
      "outputs": [
        {
          "output_type": "stream",
          "name": "stdout",
          "text": [
            "blue\n",
            "green\n",
            "yellow\n",
            "orange\n"
          ]
        }
      ]
    },
    {
      "cell_type": "code",
      "source": [
        "flat = cool + warm\n",
        "print('flat =', flat)"
      ],
      "metadata": {
        "colab": {
          "base_uri": "https://localhost:8080/"
        },
        "id": "37EfdHcmPa5D",
        "outputId": "aa1b25a7-f10c-4cb5-cbbf-0bc636bb2ba1"
      },
      "execution_count": 7,
      "outputs": [
        {
          "output_type": "stream",
          "name": "stdout",
          "text": [
            "flat = ['blue', 'green', 'yellow', 'orange']\n"
          ]
        }
      ]
    },
    {
      "cell_type": "code",
      "source": [
        "print(flat.sort())\n",
        "print('flat =', flat)"
      ],
      "metadata": {
        "colab": {
          "base_uri": "https://localhost:8080/"
        },
        "id": "OoX3NTdwPirQ",
        "outputId": "d4069083-4939-4116-cf0b-eb335ca8e519"
      },
      "execution_count": 8,
      "outputs": [
        {
          "output_type": "stream",
          "name": "stdout",
          "text": [
            "None\n",
            "flat = ['blue', 'green', 'orange', 'yellow']\n"
          ]
        }
      ]
    },
    {
      "cell_type": "code",
      "source": [
        "new_flat = sorted(flat, reverse = True)\n",
        "print('flat =', flat)\n",
        "print('new_flat =', new_flat)"
      ],
      "metadata": {
        "colab": {
          "base_uri": "https://localhost:8080/"
        },
        "id": "mBYl3C_-Phn0",
        "outputId": "c5412507-3ea4-4175-cec3-fb67a1115b9d"
      },
      "execution_count": 9,
      "outputs": [
        {
          "output_type": "stream",
          "name": "stdout",
          "text": [
            "flat = ['blue', 'green', 'orange', 'yellow']\n",
            "new_flat = ['yellow', 'orange', 'green', 'blue']\n"
          ]
        }
      ]
    },
    {
      "cell_type": "code",
      "source": [
        "cool[1] = 'black'\n",
        "print(cool)\n",
        "print(colors1)"
      ],
      "metadata": {
        "colab": {
          "base_uri": "https://localhost:8080/"
        },
        "id": "DjsQNK3zPXx3",
        "outputId": "5476c139-c8e3-4f54-8f5e-fd97c381c3fc"
      },
      "execution_count": 10,
      "outputs": [
        {
          "output_type": "stream",
          "name": "stdout",
          "text": [
            "['blue', 'black']\n",
            "[['blue', 'black'], ['yellow', 'orange']]\n"
          ]
        }
      ]
    },
    {
      "cell_type": "code",
      "source": [],
      "metadata": {
        "id": "3XdrkA-ROZBd"
      },
      "execution_count": null,
      "outputs": []
    }
  ]
}